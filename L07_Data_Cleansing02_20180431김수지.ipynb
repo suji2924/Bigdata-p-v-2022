{
 "cells": [
  {
   "cell_type": "code",
   "execution_count": 1,
   "id": "72a275f7",
   "metadata": {},
   "outputs": [],
   "source": [
    "import pandas as pd\n",
    "import numpy as np"
   ]
  },
  {
   "cell_type": "code",
   "execution_count": 2,
   "id": "4adcd853",
   "metadata": {},
   "outputs": [
    {
     "name": "stdout",
     "output_type": "stream",
     "text": [
      "<class 'pandas.core.frame.DataFrame'>\n",
      "Index: 74485 entries, A2019010100100001 to A2020123100100593\n",
      "Data columns (total 28 columns):\n",
      " #   Column     Non-Null Count  Dtype  \n",
      "---  ------     --------------  -----  \n",
      " 0   사고년도       74485 non-null  int64  \n",
      " 1   사고월        74485 non-null  int64  \n",
      " 2   사고일        74485 non-null  int64  \n",
      " 3   사고시각       74485 non-null  int64  \n",
      " 4   사고요일       74485 non-null  int64  \n",
      " 5   시군구_대범주    74485 non-null  object \n",
      " 6   시군구_소범주    74485 non-null  object \n",
      " 7   사고내용       74485 non-null  object \n",
      " 8   사망자수       74485 non-null  int64  \n",
      " 9   중상자수       74485 non-null  int64  \n",
      " 10  경상자수       74485 non-null  int64  \n",
      " 11  부상신고자수     74485 non-null  int64  \n",
      " 12  사고유형_대범주   74485 non-null  object \n",
      " 13  사고유형_소범주   74485 non-null  object \n",
      " 14  법규위반       74485 non-null  object \n",
      " 15  노면상태_대범주   74485 non-null  object \n",
      " 16  노면상태_소범주   74485 non-null  object \n",
      " 17  기상상태       73575 non-null  object \n",
      " 18  도로형태_대범주   74485 non-null  object \n",
      " 19  도로형태_소범주   74485 non-null  object \n",
      " 20  가해운전자차종    72734 non-null  object \n",
      " 21  가해운전자성별    72738 non-null  object \n",
      " 22  가해운전자연령    72727 non-null  float64\n",
      " 23  가해운전자상해정도  70172 non-null  object \n",
      " 24  피해운전자차종    72225 non-null  object \n",
      " 25  피해운전자성별    72225 non-null  object \n",
      " 26  피해운전자연령    72049 non-null  float64\n",
      " 27  피해운전자상해정도  72225 non-null  object \n",
      "dtypes: float64(2), int64(9), object(17)\n",
      "memory usage: 16.5+ MB\n"
     ]
    }
   ],
   "source": [
    "df = pd.read_pickle('02_seoul_accident_clean.pkl')\n",
    "df.info()"
   ]
  },
  {
   "cell_type": "markdown",
   "id": "ce0ae7cd",
   "metadata": {},
   "source": [
    "## <span style=\"color:#004f9f\"> 1. Handle Missing Data </span>"
   ]
  },
  {
   "cell_type": "markdown",
   "id": "5ed92c12",
   "metadata": {},
   "source": [
    "### <span style=\"color:#004f9f\"> 1.1. 결측치의 확인 </span>"
   ]
  },
  {
   "cell_type": "code",
   "execution_count": 3,
   "id": "75edac08",
   "metadata": {},
   "outputs": [
    {
     "data": {
      "text/plain": [
       "사고번호\n",
       "A2019010100100001    False\n",
       "A2019010100100002    False\n",
       "A2019010100100003    False\n",
       "A2019010100100019    False\n",
       "A2019010100100020    False\n",
       "                     ...  \n",
       "A2020123100100571    False\n",
       "A2020123100100572    False\n",
       "A2020123100100591    False\n",
       "A2020123100100592    False\n",
       "A2020123100100593    False\n",
       "Name: 기상상태, Length: 74485, dtype: bool"
      ]
     },
     "execution_count": 3,
     "metadata": {},
     "output_type": "execute_result"
    }
   ],
   "source": [
    "df['기상상태'].isnull()\n",
    "# df.기상상태.isnull()  : 이것도 가능하긴함 이건 안되는 경우 많아서 위에 방법 권장"
   ]
  },
  {
   "cell_type": "code",
   "execution_count": 4,
   "id": "8ba84413",
   "metadata": {},
   "outputs": [
    {
     "data": {
      "text/html": [
       "<div>\n",
       "<style scoped>\n",
       "    .dataframe tbody tr th:only-of-type {\n",
       "        vertical-align: middle;\n",
       "    }\n",
       "\n",
       "    .dataframe tbody tr th {\n",
       "        vertical-align: top;\n",
       "    }\n",
       "\n",
       "    .dataframe thead th {\n",
       "        text-align: right;\n",
       "    }\n",
       "</style>\n",
       "<table border=\"1\" class=\"dataframe\">\n",
       "  <thead>\n",
       "    <tr style=\"text-align: right;\">\n",
       "      <th></th>\n",
       "      <th>사고년도</th>\n",
       "      <th>사고월</th>\n",
       "      <th>사고일</th>\n",
       "      <th>사고시각</th>\n",
       "      <th>사고요일</th>\n",
       "      <th>시군구_대범주</th>\n",
       "      <th>시군구_소범주</th>\n",
       "      <th>사고내용</th>\n",
       "      <th>사망자수</th>\n",
       "      <th>중상자수</th>\n",
       "      <th>...</th>\n",
       "      <th>도로형태_대범주</th>\n",
       "      <th>도로형태_소범주</th>\n",
       "      <th>가해운전자차종</th>\n",
       "      <th>가해운전자성별</th>\n",
       "      <th>가해운전자연령</th>\n",
       "      <th>가해운전자상해정도</th>\n",
       "      <th>피해운전자차종</th>\n",
       "      <th>피해운전자성별</th>\n",
       "      <th>피해운전자연령</th>\n",
       "      <th>피해운전자상해정도</th>\n",
       "    </tr>\n",
       "    <tr>\n",
       "      <th>사고번호</th>\n",
       "      <th></th>\n",
       "      <th></th>\n",
       "      <th></th>\n",
       "      <th></th>\n",
       "      <th></th>\n",
       "      <th></th>\n",
       "      <th></th>\n",
       "      <th></th>\n",
       "      <th></th>\n",
       "      <th></th>\n",
       "      <th></th>\n",
       "      <th></th>\n",
       "      <th></th>\n",
       "      <th></th>\n",
       "      <th></th>\n",
       "      <th></th>\n",
       "      <th></th>\n",
       "      <th></th>\n",
       "      <th></th>\n",
       "      <th></th>\n",
       "      <th></th>\n",
       "    </tr>\n",
       "  </thead>\n",
       "  <tbody>\n",
       "    <tr>\n",
       "      <th>A2019010100100001</th>\n",
       "      <td>False</td>\n",
       "      <td>False</td>\n",
       "      <td>False</td>\n",
       "      <td>False</td>\n",
       "      <td>False</td>\n",
       "      <td>False</td>\n",
       "      <td>False</td>\n",
       "      <td>False</td>\n",
       "      <td>False</td>\n",
       "      <td>False</td>\n",
       "      <td>...</td>\n",
       "      <td>False</td>\n",
       "      <td>False</td>\n",
       "      <td>False</td>\n",
       "      <td>False</td>\n",
       "      <td>False</td>\n",
       "      <td>False</td>\n",
       "      <td>False</td>\n",
       "      <td>False</td>\n",
       "      <td>False</td>\n",
       "      <td>False</td>\n",
       "    </tr>\n",
       "    <tr>\n",
       "      <th>A2019010100100002</th>\n",
       "      <td>False</td>\n",
       "      <td>False</td>\n",
       "      <td>False</td>\n",
       "      <td>False</td>\n",
       "      <td>False</td>\n",
       "      <td>False</td>\n",
       "      <td>False</td>\n",
       "      <td>False</td>\n",
       "      <td>False</td>\n",
       "      <td>False</td>\n",
       "      <td>...</td>\n",
       "      <td>False</td>\n",
       "      <td>False</td>\n",
       "      <td>False</td>\n",
       "      <td>False</td>\n",
       "      <td>False</td>\n",
       "      <td>False</td>\n",
       "      <td>False</td>\n",
       "      <td>False</td>\n",
       "      <td>False</td>\n",
       "      <td>False</td>\n",
       "    </tr>\n",
       "    <tr>\n",
       "      <th>A2019010100100003</th>\n",
       "      <td>False</td>\n",
       "      <td>False</td>\n",
       "      <td>False</td>\n",
       "      <td>False</td>\n",
       "      <td>False</td>\n",
       "      <td>False</td>\n",
       "      <td>False</td>\n",
       "      <td>False</td>\n",
       "      <td>False</td>\n",
       "      <td>False</td>\n",
       "      <td>...</td>\n",
       "      <td>False</td>\n",
       "      <td>False</td>\n",
       "      <td>False</td>\n",
       "      <td>False</td>\n",
       "      <td>False</td>\n",
       "      <td>False</td>\n",
       "      <td>False</td>\n",
       "      <td>False</td>\n",
       "      <td>False</td>\n",
       "      <td>False</td>\n",
       "    </tr>\n",
       "    <tr>\n",
       "      <th>A2019010100100019</th>\n",
       "      <td>False</td>\n",
       "      <td>False</td>\n",
       "      <td>False</td>\n",
       "      <td>False</td>\n",
       "      <td>False</td>\n",
       "      <td>False</td>\n",
       "      <td>False</td>\n",
       "      <td>False</td>\n",
       "      <td>False</td>\n",
       "      <td>False</td>\n",
       "      <td>...</td>\n",
       "      <td>False</td>\n",
       "      <td>False</td>\n",
       "      <td>False</td>\n",
       "      <td>False</td>\n",
       "      <td>False</td>\n",
       "      <td>False</td>\n",
       "      <td>False</td>\n",
       "      <td>False</td>\n",
       "      <td>False</td>\n",
       "      <td>False</td>\n",
       "    </tr>\n",
       "    <tr>\n",
       "      <th>A2019010100100020</th>\n",
       "      <td>False</td>\n",
       "      <td>False</td>\n",
       "      <td>False</td>\n",
       "      <td>False</td>\n",
       "      <td>False</td>\n",
       "      <td>False</td>\n",
       "      <td>False</td>\n",
       "      <td>False</td>\n",
       "      <td>False</td>\n",
       "      <td>False</td>\n",
       "      <td>...</td>\n",
       "      <td>False</td>\n",
       "      <td>False</td>\n",
       "      <td>False</td>\n",
       "      <td>False</td>\n",
       "      <td>False</td>\n",
       "      <td>False</td>\n",
       "      <td>False</td>\n",
       "      <td>False</td>\n",
       "      <td>False</td>\n",
       "      <td>False</td>\n",
       "    </tr>\n",
       "    <tr>\n",
       "      <th>...</th>\n",
       "      <td>...</td>\n",
       "      <td>...</td>\n",
       "      <td>...</td>\n",
       "      <td>...</td>\n",
       "      <td>...</td>\n",
       "      <td>...</td>\n",
       "      <td>...</td>\n",
       "      <td>...</td>\n",
       "      <td>...</td>\n",
       "      <td>...</td>\n",
       "      <td>...</td>\n",
       "      <td>...</td>\n",
       "      <td>...</td>\n",
       "      <td>...</td>\n",
       "      <td>...</td>\n",
       "      <td>...</td>\n",
       "      <td>...</td>\n",
       "      <td>...</td>\n",
       "      <td>...</td>\n",
       "      <td>...</td>\n",
       "      <td>...</td>\n",
       "    </tr>\n",
       "    <tr>\n",
       "      <th>A2020123100100571</th>\n",
       "      <td>False</td>\n",
       "      <td>False</td>\n",
       "      <td>False</td>\n",
       "      <td>False</td>\n",
       "      <td>False</td>\n",
       "      <td>False</td>\n",
       "      <td>False</td>\n",
       "      <td>False</td>\n",
       "      <td>False</td>\n",
       "      <td>False</td>\n",
       "      <td>...</td>\n",
       "      <td>False</td>\n",
       "      <td>False</td>\n",
       "      <td>False</td>\n",
       "      <td>False</td>\n",
       "      <td>False</td>\n",
       "      <td>False</td>\n",
       "      <td>False</td>\n",
       "      <td>False</td>\n",
       "      <td>False</td>\n",
       "      <td>False</td>\n",
       "    </tr>\n",
       "    <tr>\n",
       "      <th>A2020123100100572</th>\n",
       "      <td>False</td>\n",
       "      <td>False</td>\n",
       "      <td>False</td>\n",
       "      <td>False</td>\n",
       "      <td>False</td>\n",
       "      <td>False</td>\n",
       "      <td>False</td>\n",
       "      <td>False</td>\n",
       "      <td>False</td>\n",
       "      <td>False</td>\n",
       "      <td>...</td>\n",
       "      <td>False</td>\n",
       "      <td>False</td>\n",
       "      <td>False</td>\n",
       "      <td>False</td>\n",
       "      <td>False</td>\n",
       "      <td>False</td>\n",
       "      <td>False</td>\n",
       "      <td>False</td>\n",
       "      <td>False</td>\n",
       "      <td>False</td>\n",
       "    </tr>\n",
       "    <tr>\n",
       "      <th>A2020123100100591</th>\n",
       "      <td>False</td>\n",
       "      <td>False</td>\n",
       "      <td>False</td>\n",
       "      <td>False</td>\n",
       "      <td>False</td>\n",
       "      <td>False</td>\n",
       "      <td>False</td>\n",
       "      <td>False</td>\n",
       "      <td>False</td>\n",
       "      <td>False</td>\n",
       "      <td>...</td>\n",
       "      <td>False</td>\n",
       "      <td>False</td>\n",
       "      <td>False</td>\n",
       "      <td>False</td>\n",
       "      <td>False</td>\n",
       "      <td>True</td>\n",
       "      <td>False</td>\n",
       "      <td>False</td>\n",
       "      <td>False</td>\n",
       "      <td>False</td>\n",
       "    </tr>\n",
       "    <tr>\n",
       "      <th>A2020123100100592</th>\n",
       "      <td>False</td>\n",
       "      <td>False</td>\n",
       "      <td>False</td>\n",
       "      <td>False</td>\n",
       "      <td>False</td>\n",
       "      <td>False</td>\n",
       "      <td>False</td>\n",
       "      <td>False</td>\n",
       "      <td>False</td>\n",
       "      <td>False</td>\n",
       "      <td>...</td>\n",
       "      <td>False</td>\n",
       "      <td>False</td>\n",
       "      <td>False</td>\n",
       "      <td>False</td>\n",
       "      <td>False</td>\n",
       "      <td>False</td>\n",
       "      <td>False</td>\n",
       "      <td>False</td>\n",
       "      <td>False</td>\n",
       "      <td>False</td>\n",
       "    </tr>\n",
       "    <tr>\n",
       "      <th>A2020123100100593</th>\n",
       "      <td>False</td>\n",
       "      <td>False</td>\n",
       "      <td>False</td>\n",
       "      <td>False</td>\n",
       "      <td>False</td>\n",
       "      <td>False</td>\n",
       "      <td>False</td>\n",
       "      <td>False</td>\n",
       "      <td>False</td>\n",
       "      <td>False</td>\n",
       "      <td>...</td>\n",
       "      <td>False</td>\n",
       "      <td>False</td>\n",
       "      <td>False</td>\n",
       "      <td>False</td>\n",
       "      <td>False</td>\n",
       "      <td>False</td>\n",
       "      <td>False</td>\n",
       "      <td>False</td>\n",
       "      <td>False</td>\n",
       "      <td>False</td>\n",
       "    </tr>\n",
       "  </tbody>\n",
       "</table>\n",
       "<p>74485 rows × 28 columns</p>\n",
       "</div>"
      ],
      "text/plain": [
       "                    사고년도    사고월    사고일   사고시각   사고요일  시군구_대범주  시군구_소범주   사고내용  \\\n",
       "사고번호                                                                            \n",
       "A2019010100100001  False  False  False  False  False    False    False  False   \n",
       "A2019010100100002  False  False  False  False  False    False    False  False   \n",
       "A2019010100100003  False  False  False  False  False    False    False  False   \n",
       "A2019010100100019  False  False  False  False  False    False    False  False   \n",
       "A2019010100100020  False  False  False  False  False    False    False  False   \n",
       "...                  ...    ...    ...    ...    ...      ...      ...    ...   \n",
       "A2020123100100571  False  False  False  False  False    False    False  False   \n",
       "A2020123100100572  False  False  False  False  False    False    False  False   \n",
       "A2020123100100591  False  False  False  False  False    False    False  False   \n",
       "A2020123100100592  False  False  False  False  False    False    False  False   \n",
       "A2020123100100593  False  False  False  False  False    False    False  False   \n",
       "\n",
       "                    사망자수   중상자수  ...  도로형태_대범주  도로형태_소범주  가해운전자차종  가해운전자성별  \\\n",
       "사고번호                             ...                                         \n",
       "A2019010100100001  False  False  ...     False     False    False    False   \n",
       "A2019010100100002  False  False  ...     False     False    False    False   \n",
       "A2019010100100003  False  False  ...     False     False    False    False   \n",
       "A2019010100100019  False  False  ...     False     False    False    False   \n",
       "A2019010100100020  False  False  ...     False     False    False    False   \n",
       "...                  ...    ...  ...       ...       ...      ...      ...   \n",
       "A2020123100100571  False  False  ...     False     False    False    False   \n",
       "A2020123100100572  False  False  ...     False     False    False    False   \n",
       "A2020123100100591  False  False  ...     False     False    False    False   \n",
       "A2020123100100592  False  False  ...     False     False    False    False   \n",
       "A2020123100100593  False  False  ...     False     False    False    False   \n",
       "\n",
       "                   가해운전자연령  가해운전자상해정도  피해운전자차종  피해운전자성별  피해운전자연령  피해운전자상해정도  \n",
       "사고번호                                                                         \n",
       "A2019010100100001    False      False    False    False    False      False  \n",
       "A2019010100100002    False      False    False    False    False      False  \n",
       "A2019010100100003    False      False    False    False    False      False  \n",
       "A2019010100100019    False      False    False    False    False      False  \n",
       "A2019010100100020    False      False    False    False    False      False  \n",
       "...                    ...        ...      ...      ...      ...        ...  \n",
       "A2020123100100571    False      False    False    False    False      False  \n",
       "A2020123100100572    False      False    False    False    False      False  \n",
       "A2020123100100591    False       True    False    False    False      False  \n",
       "A2020123100100592    False      False    False    False    False      False  \n",
       "A2020123100100593    False      False    False    False    False      False  \n",
       "\n",
       "[74485 rows x 28 columns]"
      ]
     },
     "execution_count": 4,
     "metadata": {},
     "output_type": "execute_result"
    }
   ],
   "source": [
    "df.isnull()"
   ]
  },
  {
   "cell_type": "code",
   "execution_count": 5,
   "id": "deca3c36",
   "metadata": {},
   "outputs": [
    {
     "data": {
      "text/plain": [
       "910"
      ]
     },
     "execution_count": 5,
     "metadata": {},
     "output_type": "execute_result"
    }
   ],
   "source": [
    "#보통 이렇게 많이 씀 isnull (method chain)\n",
    "\n",
    "#결측치 몇개인지 세는것 \n",
    "\n",
    "df['기상상태'].isnull().sum() # True=1, False=0"
   ]
  },
  {
   "cell_type": "code",
   "execution_count": 6,
   "id": "50abcdb7",
   "metadata": {},
   "outputs": [
    {
     "data": {
      "text/plain": [
       "0.012217224944619721"
      ]
     },
     "execution_count": 6,
     "metadata": {},
     "output_type": "execute_result"
    }
   ],
   "source": [
    "#합계를 개수로 나누니까 True = 결측치의 비율 나옴 \n",
    "\n",
    "df['기상상태'].isnull().mean()"
   ]
  },
  {
   "cell_type": "code",
   "execution_count": 7,
   "id": "7e21b5ca",
   "metadata": {},
   "outputs": [
    {
     "data": {
      "text/plain": [
       "사고년도            0\n",
       "사고월             0\n",
       "사고일             0\n",
       "사고시각            0\n",
       "사고요일            0\n",
       "시군구_대범주         0\n",
       "시군구_소범주         0\n",
       "사고내용            0\n",
       "사망자수            0\n",
       "중상자수            0\n",
       "경상자수            0\n",
       "부상신고자수          0\n",
       "사고유형_대범주        0\n",
       "사고유형_소범주        0\n",
       "법규위반            0\n",
       "노면상태_대범주        0\n",
       "노면상태_소범주        0\n",
       "기상상태          910\n",
       "도로형태_대범주        0\n",
       "도로형태_소범주        0\n",
       "가해운전자차종      1751\n",
       "가해운전자성별      1747\n",
       "가해운전자연령      1758\n",
       "가해운전자상해정도    4313\n",
       "피해운전자차종      2260\n",
       "피해운전자성별      2260\n",
       "피해운전자연령      2436\n",
       "피해운전자상해정도    2260\n",
       "dtype: int64"
      ]
     },
     "execution_count": 7,
     "metadata": {},
     "output_type": "execute_result"
    }
   ],
   "source": [
    "#dataframe에도 적용 가능 / 이렇게 보는 것이 편함 \n",
    "\n",
    "df.isnull().sum()"
   ]
  },
  {
   "cell_type": "code",
   "execution_count": 8,
   "id": "3bfe7f0a",
   "metadata": {},
   "outputs": [
    {
     "data": {
      "text/plain": [
       "사고년도         0.000000\n",
       "사고월          0.000000\n",
       "사고일          0.000000\n",
       "사고시각         0.000000\n",
       "사고요일         0.000000\n",
       "시군구_대범주      0.000000\n",
       "시군구_소범주      0.000000\n",
       "사고내용         0.000000\n",
       "사망자수         0.000000\n",
       "중상자수         0.000000\n",
       "경상자수         0.000000\n",
       "부상신고자수       0.000000\n",
       "사고유형_대범주     0.000000\n",
       "사고유형_소범주     0.000000\n",
       "법규위반         0.000000\n",
       "노면상태_대범주     0.000000\n",
       "노면상태_소범주     0.000000\n",
       "기상상태         0.012217\n",
       "도로형태_대범주     0.000000\n",
       "도로형태_소범주     0.000000\n",
       "가해운전자차종      0.023508\n",
       "가해운전자성별      0.023454\n",
       "가해운전자연령      0.023602\n",
       "가해운전자상해정도    0.057904\n",
       "피해운전자차종      0.030342\n",
       "피해운전자성별      0.030342\n",
       "피해운전자연령      0.032705\n",
       "피해운전자상해정도    0.030342\n",
       "dtype: float64"
      ]
     },
     "execution_count": 8,
     "metadata": {},
     "output_type": "execute_result"
    }
   ],
   "source": [
    "df.isnull().mean()  #평균도 가능 "
   ]
  },
  {
   "cell_type": "markdown",
   "id": "602d28b3",
   "metadata": {},
   "source": [
    "### <span style=\"color:#004f9f\"> 1.2. 결측치의 제거 </span>"
   ]
  },
  {
   "cell_type": "markdown",
   "id": "18ed9d94",
   "metadata": {},
   "source": [
    "결측치는 보통 제거보다는 대체를 많이 한다!"
   ]
  },
  {
   "cell_type": "code",
   "execution_count": 9,
   "id": "09de39f3",
   "metadata": {},
   "outputs": [
    {
     "data": {
      "text/plain": [
       "(74485, 28)"
      ]
     },
     "execution_count": 9,
     "metadata": {},
     "output_type": "execute_result"
    }
   ],
   "source": [
    "df.shape"
   ]
  },
  {
   "cell_type": "code",
   "execution_count": 10,
   "id": "a6741892",
   "metadata": {},
   "outputs": [
    {
     "data": {
      "text/html": [
       "<div>\n",
       "<style scoped>\n",
       "    .dataframe tbody tr th:only-of-type {\n",
       "        vertical-align: middle;\n",
       "    }\n",
       "\n",
       "    .dataframe tbody tr th {\n",
       "        vertical-align: top;\n",
       "    }\n",
       "\n",
       "    .dataframe thead th {\n",
       "        text-align: right;\n",
       "    }\n",
       "</style>\n",
       "<table border=\"1\" class=\"dataframe\">\n",
       "  <thead>\n",
       "    <tr style=\"text-align: right;\">\n",
       "      <th></th>\n",
       "      <th>사고년도</th>\n",
       "      <th>사고월</th>\n",
       "      <th>사고일</th>\n",
       "      <th>사고시각</th>\n",
       "      <th>사고요일</th>\n",
       "      <th>시군구_대범주</th>\n",
       "      <th>시군구_소범주</th>\n",
       "      <th>사고내용</th>\n",
       "      <th>사망자수</th>\n",
       "      <th>중상자수</th>\n",
       "      <th>...</th>\n",
       "      <th>도로형태_대범주</th>\n",
       "      <th>도로형태_소범주</th>\n",
       "      <th>가해운전자차종</th>\n",
       "      <th>가해운전자성별</th>\n",
       "      <th>가해운전자연령</th>\n",
       "      <th>가해운전자상해정도</th>\n",
       "      <th>피해운전자차종</th>\n",
       "      <th>피해운전자성별</th>\n",
       "      <th>피해운전자연령</th>\n",
       "      <th>피해운전자상해정도</th>\n",
       "    </tr>\n",
       "    <tr>\n",
       "      <th>사고번호</th>\n",
       "      <th></th>\n",
       "      <th></th>\n",
       "      <th></th>\n",
       "      <th></th>\n",
       "      <th></th>\n",
       "      <th></th>\n",
       "      <th></th>\n",
       "      <th></th>\n",
       "      <th></th>\n",
       "      <th></th>\n",
       "      <th></th>\n",
       "      <th></th>\n",
       "      <th></th>\n",
       "      <th></th>\n",
       "      <th></th>\n",
       "      <th></th>\n",
       "      <th></th>\n",
       "      <th></th>\n",
       "      <th></th>\n",
       "      <th></th>\n",
       "      <th></th>\n",
       "    </tr>\n",
       "  </thead>\n",
       "  <tbody>\n",
       "    <tr>\n",
       "      <th>A2019010100100001</th>\n",
       "      <td>2019</td>\n",
       "      <td>1</td>\n",
       "      <td>1</td>\n",
       "      <td>0</td>\n",
       "      <td>1</td>\n",
       "      <td>강서구</td>\n",
       "      <td>강서구 방화동</td>\n",
       "      <td>경상사고</td>\n",
       "      <td>0</td>\n",
       "      <td>0</td>\n",
       "      <td>...</td>\n",
       "      <td>교차로</td>\n",
       "      <td>교차로 - 교차로횡단보도내</td>\n",
       "      <td>승용</td>\n",
       "      <td>남</td>\n",
       "      <td>26.0</td>\n",
       "      <td>상해없음</td>\n",
       "      <td>보행자</td>\n",
       "      <td>남</td>\n",
       "      <td>40.0</td>\n",
       "      <td>경상</td>\n",
       "    </tr>\n",
       "    <tr>\n",
       "      <th>A2019010100100002</th>\n",
       "      <td>2019</td>\n",
       "      <td>1</td>\n",
       "      <td>1</td>\n",
       "      <td>0</td>\n",
       "      <td>1</td>\n",
       "      <td>구로구</td>\n",
       "      <td>구로구 고척동</td>\n",
       "      <td>경상사고</td>\n",
       "      <td>0</td>\n",
       "      <td>0</td>\n",
       "      <td>...</td>\n",
       "      <td>단일로</td>\n",
       "      <td>단일로 - 기타</td>\n",
       "      <td>이륜</td>\n",
       "      <td>남</td>\n",
       "      <td>23.0</td>\n",
       "      <td>상해없음</td>\n",
       "      <td>승용</td>\n",
       "      <td>남</td>\n",
       "      <td>71.0</td>\n",
       "      <td>경상</td>\n",
       "    </tr>\n",
       "    <tr>\n",
       "      <th>A2019010100100003</th>\n",
       "      <td>2019</td>\n",
       "      <td>1</td>\n",
       "      <td>1</td>\n",
       "      <td>0</td>\n",
       "      <td>1</td>\n",
       "      <td>서초구</td>\n",
       "      <td>서초구 서초동</td>\n",
       "      <td>경상사고</td>\n",
       "      <td>0</td>\n",
       "      <td>0</td>\n",
       "      <td>...</td>\n",
       "      <td>기타</td>\n",
       "      <td>기타 - 기타</td>\n",
       "      <td>승용</td>\n",
       "      <td>남</td>\n",
       "      <td>33.0</td>\n",
       "      <td>상해없음</td>\n",
       "      <td>화물</td>\n",
       "      <td>남</td>\n",
       "      <td>51.0</td>\n",
       "      <td>경상</td>\n",
       "    </tr>\n",
       "    <tr>\n",
       "      <th>A2019010100100019</th>\n",
       "      <td>2019</td>\n",
       "      <td>1</td>\n",
       "      <td>1</td>\n",
       "      <td>1</td>\n",
       "      <td>1</td>\n",
       "      <td>중구</td>\n",
       "      <td>중구 회현동2가</td>\n",
       "      <td>경상사고</td>\n",
       "      <td>0</td>\n",
       "      <td>0</td>\n",
       "      <td>...</td>\n",
       "      <td>단일로</td>\n",
       "      <td>단일로 - 터널</td>\n",
       "      <td>승용</td>\n",
       "      <td>남</td>\n",
       "      <td>58.0</td>\n",
       "      <td>상해없음</td>\n",
       "      <td>승용</td>\n",
       "      <td>남</td>\n",
       "      <td>62.0</td>\n",
       "      <td>경상</td>\n",
       "    </tr>\n",
       "    <tr>\n",
       "      <th>A2019010100100020</th>\n",
       "      <td>2019</td>\n",
       "      <td>1</td>\n",
       "      <td>1</td>\n",
       "      <td>1</td>\n",
       "      <td>1</td>\n",
       "      <td>성동구</td>\n",
       "      <td>성동구 행당동</td>\n",
       "      <td>경상사고</td>\n",
       "      <td>0</td>\n",
       "      <td>0</td>\n",
       "      <td>...</td>\n",
       "      <td>교차로</td>\n",
       "      <td>교차로 - 교차로부근</td>\n",
       "      <td>승용</td>\n",
       "      <td>남</td>\n",
       "      <td>30.0</td>\n",
       "      <td>상해없음</td>\n",
       "      <td>보행자</td>\n",
       "      <td>남</td>\n",
       "      <td>32.0</td>\n",
       "      <td>경상</td>\n",
       "    </tr>\n",
       "    <tr>\n",
       "      <th>...</th>\n",
       "      <td>...</td>\n",
       "      <td>...</td>\n",
       "      <td>...</td>\n",
       "      <td>...</td>\n",
       "      <td>...</td>\n",
       "      <td>...</td>\n",
       "      <td>...</td>\n",
       "      <td>...</td>\n",
       "      <td>...</td>\n",
       "      <td>...</td>\n",
       "      <td>...</td>\n",
       "      <td>...</td>\n",
       "      <td>...</td>\n",
       "      <td>...</td>\n",
       "      <td>...</td>\n",
       "      <td>...</td>\n",
       "      <td>...</td>\n",
       "      <td>...</td>\n",
       "      <td>...</td>\n",
       "      <td>...</td>\n",
       "      <td>...</td>\n",
       "    </tr>\n",
       "    <tr>\n",
       "      <th>A2020123100100570</th>\n",
       "      <td>2020</td>\n",
       "      <td>12</td>\n",
       "      <td>31</td>\n",
       "      <td>22</td>\n",
       "      <td>3</td>\n",
       "      <td>성북구</td>\n",
       "      <td>성북구 보문동1가</td>\n",
       "      <td>경상사고</td>\n",
       "      <td>0</td>\n",
       "      <td>0</td>\n",
       "      <td>...</td>\n",
       "      <td>교차로</td>\n",
       "      <td>교차로 - 교차로부근</td>\n",
       "      <td>이륜</td>\n",
       "      <td>남</td>\n",
       "      <td>24.0</td>\n",
       "      <td>상해없음</td>\n",
       "      <td>승용</td>\n",
       "      <td>남</td>\n",
       "      <td>54.0</td>\n",
       "      <td>경상</td>\n",
       "    </tr>\n",
       "    <tr>\n",
       "      <th>A2020123100100571</th>\n",
       "      <td>2020</td>\n",
       "      <td>12</td>\n",
       "      <td>31</td>\n",
       "      <td>22</td>\n",
       "      <td>3</td>\n",
       "      <td>동대문구</td>\n",
       "      <td>동대문구 제기동</td>\n",
       "      <td>경상사고</td>\n",
       "      <td>0</td>\n",
       "      <td>0</td>\n",
       "      <td>...</td>\n",
       "      <td>단일로</td>\n",
       "      <td>단일로 - 기타</td>\n",
       "      <td>화물</td>\n",
       "      <td>남</td>\n",
       "      <td>35.0</td>\n",
       "      <td>상해없음</td>\n",
       "      <td>자전거</td>\n",
       "      <td>남</td>\n",
       "      <td>41.0</td>\n",
       "      <td>경상</td>\n",
       "    </tr>\n",
       "    <tr>\n",
       "      <th>A2020123100100572</th>\n",
       "      <td>2020</td>\n",
       "      <td>12</td>\n",
       "      <td>31</td>\n",
       "      <td>22</td>\n",
       "      <td>3</td>\n",
       "      <td>강동구</td>\n",
       "      <td>강동구 강일동</td>\n",
       "      <td>경상사고</td>\n",
       "      <td>0</td>\n",
       "      <td>0</td>\n",
       "      <td>...</td>\n",
       "      <td>교차로</td>\n",
       "      <td>교차로 - 교차로부근</td>\n",
       "      <td>승용</td>\n",
       "      <td>남</td>\n",
       "      <td>61.0</td>\n",
       "      <td>상해없음</td>\n",
       "      <td>승용</td>\n",
       "      <td>남</td>\n",
       "      <td>21.0</td>\n",
       "      <td>경상</td>\n",
       "    </tr>\n",
       "    <tr>\n",
       "      <th>A2020123100100592</th>\n",
       "      <td>2020</td>\n",
       "      <td>12</td>\n",
       "      <td>31</td>\n",
       "      <td>23</td>\n",
       "      <td>3</td>\n",
       "      <td>송파구</td>\n",
       "      <td>송파구 신천동</td>\n",
       "      <td>중상사고</td>\n",
       "      <td>0</td>\n",
       "      <td>1</td>\n",
       "      <td>...</td>\n",
       "      <td>단일로</td>\n",
       "      <td>단일로 - 기타</td>\n",
       "      <td>승용</td>\n",
       "      <td>남</td>\n",
       "      <td>62.0</td>\n",
       "      <td>상해없음</td>\n",
       "      <td>이륜</td>\n",
       "      <td>남</td>\n",
       "      <td>22.0</td>\n",
       "      <td>중상</td>\n",
       "    </tr>\n",
       "    <tr>\n",
       "      <th>A2020123100100593</th>\n",
       "      <td>2020</td>\n",
       "      <td>12</td>\n",
       "      <td>31</td>\n",
       "      <td>23</td>\n",
       "      <td>3</td>\n",
       "      <td>양천구</td>\n",
       "      <td>양천구 신월동</td>\n",
       "      <td>경상사고</td>\n",
       "      <td>0</td>\n",
       "      <td>0</td>\n",
       "      <td>...</td>\n",
       "      <td>단일로</td>\n",
       "      <td>단일로 - 기타</td>\n",
       "      <td>승용</td>\n",
       "      <td>남</td>\n",
       "      <td>61.0</td>\n",
       "      <td>상해없음</td>\n",
       "      <td>승용</td>\n",
       "      <td>남</td>\n",
       "      <td>22.0</td>\n",
       "      <td>경상</td>\n",
       "    </tr>\n",
       "  </tbody>\n",
       "</table>\n",
       "<p>66940 rows × 28 columns</p>\n",
       "</div>"
      ],
      "text/plain": [
       "                   사고년도  사고월  사고일  사고시각  사고요일 시군구_대범주    시군구_소범주  사고내용  사망자수  \\\n",
       "사고번호                                                                           \n",
       "A2019010100100001  2019    1    1     0     1     강서구    강서구 방화동  경상사고     0   \n",
       "A2019010100100002  2019    1    1     0     1     구로구    구로구 고척동  경상사고     0   \n",
       "A2019010100100003  2019    1    1     0     1     서초구    서초구 서초동  경상사고     0   \n",
       "A2019010100100019  2019    1    1     1     1      중구   중구 회현동2가  경상사고     0   \n",
       "A2019010100100020  2019    1    1     1     1     성동구    성동구 행당동  경상사고     0   \n",
       "...                 ...  ...  ...   ...   ...     ...        ...   ...   ...   \n",
       "A2020123100100570  2020   12   31    22     3     성북구  성북구 보문동1가  경상사고     0   \n",
       "A2020123100100571  2020   12   31    22     3    동대문구   동대문구 제기동  경상사고     0   \n",
       "A2020123100100572  2020   12   31    22     3     강동구    강동구 강일동  경상사고     0   \n",
       "A2020123100100592  2020   12   31    23     3     송파구    송파구 신천동  중상사고     0   \n",
       "A2020123100100593  2020   12   31    23     3     양천구    양천구 신월동  경상사고     0   \n",
       "\n",
       "                   중상자수  ...  도로형태_대범주        도로형태_소범주 가해운전자차종 가해운전자성별  \\\n",
       "사고번호                     ...                                             \n",
       "A2019010100100001     0  ...       교차로  교차로 - 교차로횡단보도내      승용       남   \n",
       "A2019010100100002     0  ...       단일로        단일로 - 기타      이륜       남   \n",
       "A2019010100100003     0  ...        기타         기타 - 기타      승용       남   \n",
       "A2019010100100019     0  ...       단일로        단일로 - 터널      승용       남   \n",
       "A2019010100100020     0  ...       교차로     교차로 - 교차로부근      승용       남   \n",
       "...                 ...  ...       ...             ...     ...     ...   \n",
       "A2020123100100570     0  ...       교차로     교차로 - 교차로부근      이륜       남   \n",
       "A2020123100100571     0  ...       단일로        단일로 - 기타      화물       남   \n",
       "A2020123100100572     0  ...       교차로     교차로 - 교차로부근      승용       남   \n",
       "A2020123100100592     1  ...       단일로        단일로 - 기타      승용       남   \n",
       "A2020123100100593     0  ...       단일로        단일로 - 기타      승용       남   \n",
       "\n",
       "                  가해운전자연령 가해운전자상해정도 피해운전자차종 피해운전자성별 피해운전자연령 피해운전자상해정도  \n",
       "사고번호                                                                   \n",
       "A2019010100100001    26.0      상해없음     보행자       남    40.0        경상  \n",
       "A2019010100100002    23.0      상해없음      승용       남    71.0        경상  \n",
       "A2019010100100003    33.0      상해없음      화물       남    51.0        경상  \n",
       "A2019010100100019    58.0      상해없음      승용       남    62.0        경상  \n",
       "A2019010100100020    30.0      상해없음     보행자       남    32.0        경상  \n",
       "...                   ...       ...     ...     ...     ...       ...  \n",
       "A2020123100100570    24.0      상해없음      승용       남    54.0        경상  \n",
       "A2020123100100571    35.0      상해없음     자전거       남    41.0        경상  \n",
       "A2020123100100572    61.0      상해없음      승용       남    21.0        경상  \n",
       "A2020123100100592    62.0      상해없음      이륜       남    22.0        중상  \n",
       "A2020123100100593    61.0      상해없음      승용       남    22.0        경상  \n",
       "\n",
       "[66940 rows x 28 columns]"
      ]
     },
     "execution_count": 10,
     "metadata": {},
     "output_type": "execute_result"
    }
   ],
   "source": [
    "df.dropna()  #바로 업데이트 안함 df = df.dropna()로 했어야함 "
   ]
  },
  {
   "cell_type": "code",
   "execution_count": 11,
   "id": "52bc6fd6",
   "metadata": {},
   "outputs": [
    {
     "data": {
      "text/plain": [
       "(66940, 28)"
      ]
     },
     "execution_count": 11,
     "metadata": {},
     "output_type": "execute_result"
    }
   ],
   "source": [
    "df.dropna().shape"
   ]
  },
  {
   "cell_type": "markdown",
   "id": "c7662b7d",
   "metadata": {},
   "source": [
    "### <span style=\"color:#004f9f\"> 1.3. 결측치의 대체 </span>"
   ]
  },
  {
   "cell_type": "code",
   "execution_count": 12,
   "id": "c55c5c3d",
   "metadata": {},
   "outputs": [
    {
     "data": {
      "text/plain": [
       "사고년도         0.000000\n",
       "사고월          0.000000\n",
       "사고일          0.000000\n",
       "사고시각         0.000000\n",
       "사고요일         0.000000\n",
       "시군구_대범주      0.000000\n",
       "시군구_소범주      0.000000\n",
       "사고내용         0.000000\n",
       "사망자수         0.000000\n",
       "중상자수         0.000000\n",
       "경상자수         0.000000\n",
       "부상신고자수       0.000000\n",
       "사고유형_대범주     0.000000\n",
       "사고유형_소범주     0.000000\n",
       "법규위반         0.000000\n",
       "노면상태_대범주     0.000000\n",
       "노면상태_소범주     0.000000\n",
       "기상상태         0.012217\n",
       "도로형태_대범주     0.000000\n",
       "도로형태_소범주     0.000000\n",
       "가해운전자차종      0.023508\n",
       "가해운전자성별      0.023454\n",
       "가해운전자연령      0.023602\n",
       "가해운전자상해정도    0.057904\n",
       "피해운전자차종      0.030342\n",
       "피해운전자성별      0.030342\n",
       "피해운전자연령      0.032705\n",
       "피해운전자상해정도    0.030342\n",
       "dtype: float64"
      ]
     },
     "execution_count": 12,
     "metadata": {},
     "output_type": "execute_result"
    }
   ],
   "source": [
    "df.isnull().mean()"
   ]
  },
  {
   "cell_type": "markdown",
   "id": "b1729e88",
   "metadata": {},
   "source": [
    "**[기상상태]** : 새로운범주생성"
   ]
  },
  {
   "cell_type": "code",
   "execution_count": 13,
   "id": "ee190710",
   "metadata": {},
   "outputs": [
    {
     "data": {
      "text/plain": [
       "맑음     0.884366\n",
       "비      0.062912\n",
       "흐림     0.038853\n",
       "NaN    0.012217\n",
       "눈      0.001598\n",
       "안개     0.000054\n",
       "Name: 기상상태, dtype: float64"
      ]
     },
     "execution_count": 13,
     "metadata": {},
     "output_type": "execute_result"
    }
   ],
   "source": [
    "df['기상상태'].value_counts(normalize=True, dropna=False)\n",
    "\n",
    "#기상상태 값 뭐뭐 있는지 확인 / normalize하면 비율로 알려줌 / dropna=False는 결측치 포함해서 보여줌\n",
    "#결측치는 눈이나 안개보다 많은 비율이기 때문에 이유가 있을 것 -> 새로운 범주 생성 "
   ]
  },
  {
   "cell_type": "code",
   "execution_count": 14,
   "id": "08861cfd",
   "metadata": {},
   "outputs": [
    {
     "data": {
      "text/plain": [
       "맑음    0.884366\n",
       "비     0.062912\n",
       "흐림    0.038853\n",
       "기타    0.012217\n",
       "눈     0.001598\n",
       "안개    0.000054\n",
       "Name: 기상상태, dtype: float64"
      ]
     },
     "execution_count": 14,
     "metadata": {},
     "output_type": "execute_result"
    }
   ],
   "source": [
    "#결측치 새로운 범주 생성\n",
    "\n",
    "df['기상상태'] = df['기상상태'].fillna('기타')\n",
    "df['기상상태'].value_counts(normalize=True)"
   ]
  },
  {
   "cell_type": "markdown",
   "id": "bde10a3e",
   "metadata": {},
   "source": [
    "**[가해운전자성별]** : 최빈값대체"
   ]
  },
  {
   "cell_type": "code",
   "execution_count": 15,
   "id": "ef82c407",
   "metadata": {},
   "outputs": [
    {
     "data": {
      "text/plain": [
       "남      0.799356\n",
       "여      0.177190\n",
       "NaN    0.023454\n",
       "Name: 가해운전자성별, dtype: float64"
      ]
     },
     "execution_count": 15,
     "metadata": {},
     "output_type": "execute_result"
    }
   ],
   "source": [
    "df['가해운전자성별'].value_counts(normalize=True, dropna=False)\n",
    "\n",
    "#결측치 0.02면 미미한 상태 -> 압도적으로 높은 비율인 '남'으로 대체"
   ]
  },
  {
   "cell_type": "code",
   "execution_count": 16,
   "id": "f86e9db7",
   "metadata": {},
   "outputs": [
    {
     "data": {
      "text/plain": [
       "남    0.82281\n",
       "여    0.17719\n",
       "Name: 가해운전자성별, dtype: float64"
      ]
     },
     "execution_count": 16,
     "metadata": {},
     "output_type": "execute_result"
    }
   ],
   "source": [
    "df['가해운전자성별'] = df['가해운전자성별'].fillna('남')\n",
    "df['가해운전자성별'].value_counts(normalize=True)"
   ]
  },
  {
   "cell_type": "markdown",
   "id": "d16b80d9",
   "metadata": {},
   "source": [
    "**[가해운전자연령]** : 중앙값 대체  #수치형 변수"
   ]
  },
  {
   "cell_type": "code",
   "execution_count": 17,
   "id": "cc96dc48",
   "metadata": {},
   "outputs": [
    {
     "data": {
      "text/plain": [
       "count    72727.000000\n",
       "mean        48.063498\n",
       "std         15.705427\n",
       "min          5.000000\n",
       "25%         35.000000\n",
       "50%         50.000000\n",
       "75%         60.000000\n",
       "max         98.000000\n",
       "Name: 가해운전자연령, dtype: float64"
      ]
     },
     "execution_count": 17,
     "metadata": {},
     "output_type": "execute_result"
    }
   ],
   "source": [
    "#수치형 변수라서 describe\n",
    "\n",
    "df['가해운전자연령'].describe()"
   ]
  },
  {
   "cell_type": "code",
   "execution_count": 18,
   "id": "930b45d6",
   "metadata": {},
   "outputs": [
    {
     "data": {
      "text/plain": [
       "0"
      ]
     },
     "execution_count": 18,
     "metadata": {},
     "output_type": "execute_result"
    }
   ],
   "source": [
    "df['가해운전자연령'] = df['가해운전자연령'].fillna(df['가해운전자연령'].median())\n",
    "df['가해운전자연령'] = df['가해운전자연령'].astype('int')\n",
    "#결측치는 float으로 저장됨 -> 결측치 제거했으므로 int로 타입 변환해도 괜찮음 \n",
    "df['가해운전자연령'].isnull().sum()"
   ]
  },
  {
   "cell_type": "markdown",
   "id": "bece7ce9",
   "metadata": {},
   "source": [
    "#### <span style=\"color: #00a470\"> [Exercise01] 결측치 처리하기 </span>\n",
    "- 결측치가 있는 나머지 열들을 처리해서 결측치가 없는 데이터프레임을 완성"
   ]
  },
  {
   "cell_type": "code",
   "execution_count": 19,
   "id": "50fc5f7d",
   "metadata": {},
   "outputs": [
    {
     "data": {
      "text/plain": [
       "사고년도            0\n",
       "사고월             0\n",
       "사고일             0\n",
       "사고시각            0\n",
       "사고요일            0\n",
       "시군구_대범주         0\n",
       "시군구_소범주         0\n",
       "사고내용            0\n",
       "사망자수            0\n",
       "중상자수            0\n",
       "경상자수            0\n",
       "부상신고자수          0\n",
       "사고유형_대범주        0\n",
       "사고유형_소범주        0\n",
       "법규위반            0\n",
       "노면상태_대범주        0\n",
       "노면상태_소범주        0\n",
       "기상상태            0\n",
       "도로형태_대범주        0\n",
       "도로형태_소범주        0\n",
       "가해운전자차종      1751\n",
       "가해운전자성별         0\n",
       "가해운전자연령         0\n",
       "가해운전자상해정도    4313\n",
       "피해운전자차종      2260\n",
       "피해운전자성별      2260\n",
       "피해운전자연령      2436\n",
       "피해운전자상해정도    2260\n",
       "dtype: int64"
      ]
     },
     "execution_count": 19,
     "metadata": {},
     "output_type": "execute_result"
    }
   ],
   "source": [
    "df.isnull().sum()"
   ]
  },
  {
   "cell_type": "markdown",
   "id": "66956c96",
   "metadata": {},
   "source": [
    "['가해운전자차종'] : 새로운 범주 '기타' 생성"
   ]
  },
  {
   "cell_type": "code",
   "execution_count": 20,
   "id": "68dfffe1",
   "metadata": {},
   "outputs": [
    {
     "data": {
      "text/plain": [
       "승용             0.635913\n",
       "이륜             0.108478\n",
       "화물             0.082648\n",
       "승합             0.067799\n",
       "자전거            0.047902\n",
       "NaN            0.023508\n",
       "원동기            0.016487\n",
       "건설기계           0.007841\n",
       "개인형이동수단(PM)    0.006995\n",
       "특수             0.002162\n",
       "사륜오토바이(ATV)    0.000255\n",
       "농기계            0.000013\n",
       "Name: 가해운전자차종, dtype: float64"
      ]
     },
     "execution_count": 20,
     "metadata": {},
     "output_type": "execute_result"
    }
   ],
   "source": [
    "df['가해운전자차종'].value_counts(normalize=True, dropna=False)"
   ]
  },
  {
   "cell_type": "code",
   "execution_count": 21,
   "id": "6e14f4bb",
   "metadata": {},
   "outputs": [
    {
     "data": {
      "text/plain": [
       "승용             0.635913\n",
       "이륜             0.108478\n",
       "화물             0.082648\n",
       "승합             0.067799\n",
       "자전거            0.047902\n",
       "기타             0.023508\n",
       "원동기            0.016487\n",
       "건설기계           0.007841\n",
       "개인형이동수단(PM)    0.006995\n",
       "특수             0.002162\n",
       "사륜오토바이(ATV)    0.000255\n",
       "농기계            0.000013\n",
       "Name: 가해운전자차종, dtype: float64"
      ]
     },
     "execution_count": 21,
     "metadata": {},
     "output_type": "execute_result"
    }
   ],
   "source": [
    "df['가해운전자차종'] = df['가해운전자차종'].fillna('기타')\n",
    "df['가해운전자차종'].value_counts(normalize=True)"
   ]
  },
  {
   "cell_type": "markdown",
   "id": "07ad310d",
   "metadata": {},
   "source": [
    "['가해운전자상해정도'] : 새로운 범주 '기타' 생성"
   ]
  },
  {
   "cell_type": "code",
   "execution_count": 22,
   "id": "2d27e6bf",
   "metadata": {},
   "outputs": [
    {
     "data": {
      "text/plain": [
       "상해없음    0.777647\n",
       "경상      0.092582\n",
       "NaN     0.057904\n",
       "부상신고    0.046627\n",
       "중상      0.023441\n",
       "사망      0.001799\n",
       "Name: 가해운전자상해정도, dtype: float64"
      ]
     },
     "execution_count": 22,
     "metadata": {},
     "output_type": "execute_result"
    }
   ],
   "source": [
    "df['가해운전자상해정도'].value_counts(normalize=True, dropna=False)"
   ]
  },
  {
   "cell_type": "code",
   "execution_count": 23,
   "id": "52255fbe",
   "metadata": {},
   "outputs": [
    {
     "data": {
      "text/plain": [
       "상해없음    0.777647\n",
       "경상      0.092582\n",
       "기타      0.057904\n",
       "부상신고    0.046627\n",
       "중상      0.023441\n",
       "사망      0.001799\n",
       "Name: 가해운전자상해정도, dtype: float64"
      ]
     },
     "execution_count": 23,
     "metadata": {},
     "output_type": "execute_result"
    }
   ],
   "source": [
    "df['가해운전자상해정도'] = df['가해운전자상해정도'].fillna('기타')\n",
    "df['가해운전자상해정도'].value_counts(normalize=True)"
   ]
  },
  {
   "cell_type": "markdown",
   "id": "368d624e",
   "metadata": {},
   "source": [
    "['피해운전자차종'] : '기타불명'으로 대체"
   ]
  },
  {
   "cell_type": "code",
   "execution_count": 24,
   "id": "3570d9f0",
   "metadata": {},
   "outputs": [
    {
     "data": {
      "text/plain": [
       "승용             0.450574\n",
       "보행자            0.235846\n",
       "이륜             0.130644\n",
       "자전거            0.043499\n",
       "승합             0.040800\n",
       "화물             0.039766\n",
       "NaN            0.030342\n",
       "원동기            0.017144\n",
       "개인형이동수단(PM)    0.003961\n",
       "기타불명           0.002886\n",
       "건설기계           0.002712\n",
       "특수             0.001463\n",
       "사륜오토바이(ATV)    0.000349\n",
       "농기계            0.000013\n",
       "Name: 피해운전자차종, dtype: float64"
      ]
     },
     "execution_count": 24,
     "metadata": {},
     "output_type": "execute_result"
    }
   ],
   "source": [
    "df['피해운전자차종'].value_counts(normalize=True, dropna=False)"
   ]
  },
  {
   "cell_type": "code",
   "execution_count": 25,
   "id": "030007e3",
   "metadata": {},
   "outputs": [
    {
     "data": {
      "text/plain": [
       "승용             0.450574\n",
       "보행자            0.235846\n",
       "이륜             0.130644\n",
       "자전거            0.043499\n",
       "승합             0.040800\n",
       "화물             0.039766\n",
       "기타불명           0.033228\n",
       "원동기            0.017144\n",
       "개인형이동수단(PM)    0.003961\n",
       "건설기계           0.002712\n",
       "특수             0.001463\n",
       "사륜오토바이(ATV)    0.000349\n",
       "농기계            0.000013\n",
       "Name: 피해운전자차종, dtype: float64"
      ]
     },
     "execution_count": 25,
     "metadata": {},
     "output_type": "execute_result"
    }
   ],
   "source": [
    "df['피해운전자차종'] = df['피해운전자차종'].fillna('기타불명')\n",
    "df['피해운전자차종'].value_counts(normalize=True)"
   ]
  },
  {
   "cell_type": "markdown",
   "id": "49ce7f8c",
   "metadata": {},
   "source": [
    "['피해운전자성별'] : '기타불명'으로 대체"
   ]
  },
  {
   "cell_type": "code",
   "execution_count": 26,
   "id": "cec3d14f",
   "metadata": {},
   "outputs": [
    {
     "data": {
      "text/plain": [
       "남       0.715231\n",
       "여       0.252131\n",
       "NaN     0.030342\n",
       "기타불명    0.002296\n",
       "Name: 피해운전자성별, dtype: float64"
      ]
     },
     "execution_count": 26,
     "metadata": {},
     "output_type": "execute_result"
    }
   ],
   "source": [
    "df['피해운전자성별'].value_counts(normalize=True, dropna=False)"
   ]
  },
  {
   "cell_type": "code",
   "execution_count": 27,
   "id": "c470c3a3",
   "metadata": {},
   "outputs": [
    {
     "data": {
      "text/plain": [
       "남       0.715231\n",
       "여       0.252131\n",
       "기타불명    0.032637\n",
       "Name: 피해운전자성별, dtype: float64"
      ]
     },
     "execution_count": 27,
     "metadata": {},
     "output_type": "execute_result"
    }
   ],
   "source": [
    "df['피해운전자성별'] = df['피해운전자성별'].fillna('기타불명')\n",
    "df['피해운전자성별'].value_counts(normalize=True)"
   ]
  },
  {
   "cell_type": "code",
   "execution_count": 28,
   "id": "aab9a12e",
   "metadata": {},
   "outputs": [],
   "source": [
    "#기타불명을 최빈값 '남'으로 대체하는 경우 코드\n",
    "#df['피해운전자성별'] = df['피해운전자성별'].replace({'기타불명' : '남'})"
   ]
  },
  {
   "cell_type": "markdown",
   "id": "564c4beb",
   "metadata": {},
   "source": [
    "['피해운전자연령'] : 중앙값 대체"
   ]
  },
  {
   "cell_type": "code",
   "execution_count": 29,
   "id": "092809bc",
   "metadata": {},
   "outputs": [
    {
     "data": {
      "text/plain": [
       "count    72049.000000\n",
       "mean        45.369054\n",
       "std         16.384227\n",
       "min          1.000000\n",
       "25%         32.000000\n",
       "50%         45.000000\n",
       "75%         58.000000\n",
       "max         98.000000\n",
       "Name: 피해운전자연령, dtype: float64"
      ]
     },
     "execution_count": 29,
     "metadata": {},
     "output_type": "execute_result"
    }
   ],
   "source": [
    "df['피해운전자연령'].describe()"
   ]
  },
  {
   "cell_type": "code",
   "execution_count": 30,
   "id": "114cfaeb",
   "metadata": {},
   "outputs": [],
   "source": [
    "df['피해운전자연령'] = df['피해운전자연령'].fillna(df['피해운전자연령'].median())\n",
    "df['피해운전자연령'] = df['피해운전자연령'].astype(int)"
   ]
  },
  {
   "cell_type": "code",
   "execution_count": 31,
   "id": "ffe5abed",
   "metadata": {},
   "outputs": [
    {
     "data": {
      "text/plain": [
       "0"
      ]
     },
     "execution_count": 31,
     "metadata": {},
     "output_type": "execute_result"
    }
   ],
   "source": [
    "df['피해운전자연령'].isnull().sum()"
   ]
  },
  {
   "cell_type": "markdown",
   "id": "7cb493f6",
   "metadata": {},
   "source": [
    "['피해운전자상해정도'] : '기타불명'으로 대체"
   ]
  },
  {
   "cell_type": "code",
   "execution_count": 32,
   "id": "55c8a094",
   "metadata": {},
   "outputs": [
    {
     "data": {
      "text/plain": [
       "경상      0.601423\n",
       "중상      0.190079\n",
       "상해없음    0.127744\n",
       "부상신고    0.039565\n",
       "NaN     0.030342\n",
       "기타불명    0.006713\n",
       "사망      0.004135\n",
       "Name: 피해운전자상해정도, dtype: float64"
      ]
     },
     "execution_count": 32,
     "metadata": {},
     "output_type": "execute_result"
    }
   ],
   "source": [
    "df['피해운전자상해정도'].value_counts(normalize=True, dropna=False)"
   ]
  },
  {
   "cell_type": "code",
   "execution_count": 33,
   "id": "db73e447",
   "metadata": {
    "scrolled": true
   },
   "outputs": [
    {
     "data": {
      "text/plain": [
       "경상      0.601423\n",
       "중상      0.190079\n",
       "상해없음    0.127744\n",
       "부상신고    0.039565\n",
       "기타불명    0.037054\n",
       "사망      0.004135\n",
       "Name: 피해운전자상해정도, dtype: float64"
      ]
     },
     "execution_count": 33,
     "metadata": {},
     "output_type": "execute_result"
    }
   ],
   "source": [
    "df['피해운전자상해정도'] = df['피해운전자상해정도'].fillna('기타불명')\n",
    "df['피해운전자상해정도'].value_counts(normalize=True)"
   ]
  },
  {
   "cell_type": "markdown",
   "id": "36c91a30",
   "metadata": {},
   "source": [
    "결과 확인"
   ]
  },
  {
   "cell_type": "code",
   "execution_count": 34,
   "id": "c93477ae",
   "metadata": {},
   "outputs": [
    {
     "data": {
      "text/plain": [
       "사고년도         0\n",
       "사고월          0\n",
       "사고일          0\n",
       "사고시각         0\n",
       "사고요일         0\n",
       "시군구_대범주      0\n",
       "시군구_소범주      0\n",
       "사고내용         0\n",
       "사망자수         0\n",
       "중상자수         0\n",
       "경상자수         0\n",
       "부상신고자수       0\n",
       "사고유형_대범주     0\n",
       "사고유형_소범주     0\n",
       "법규위반         0\n",
       "노면상태_대범주     0\n",
       "노면상태_소범주     0\n",
       "기상상태         0\n",
       "도로형태_대범주     0\n",
       "도로형태_소범주     0\n",
       "가해운전자차종      0\n",
       "가해운전자성별      0\n",
       "가해운전자연령      0\n",
       "가해운전자상해정도    0\n",
       "피해운전자차종      0\n",
       "피해운전자성별      0\n",
       "피해운전자연령      0\n",
       "피해운전자상해정도    0\n",
       "dtype: int64"
      ]
     },
     "execution_count": 34,
     "metadata": {},
     "output_type": "execute_result"
    }
   ],
   "source": [
    "df.isnull().sum()"
   ]
  },
  {
   "cell_type": "markdown",
   "id": "e9dc9da9",
   "metadata": {},
   "source": [
    "## <span style=\"color:#004f9f\"> 2. Check the Outlier </span>"
   ]
  },
  {
   "cell_type": "markdown",
   "id": "134ef7c6",
   "metadata": {},
   "source": [
    "### <span style=\"color:#004f9f\"> 2.1. 범주형 변수 이상치 처리 </span>"
   ]
  },
  {
   "cell_type": "code",
   "execution_count": 35,
   "id": "bdd0499a",
   "metadata": {},
   "outputs": [
    {
     "data": {
      "text/plain": [
       "단일로    37918\n",
       "교차로    32242\n",
       "기타      4056\n",
       "주차장      246\n",
       "미분류       23\n",
       "Name: 도로형태_대범주, dtype: int64"
      ]
     },
     "execution_count": 35,
     "metadata": {},
     "output_type": "execute_result"
    }
   ],
   "source": [
    "#보통 이상치는 특이한 값으로 몇개 안됨 - 미분류같이\n",
    "\n",
    "df['도로형태_대범주'].value_counts()"
   ]
  },
  {
   "cell_type": "code",
   "execution_count": 36,
   "id": "f9714b8d",
   "metadata": {},
   "outputs": [
    {
     "data": {
      "text/plain": [
       "단일로    37918\n",
       "교차로    32242\n",
       "기타      4079\n",
       "주차장      246\n",
       "Name: 도로형태_대범주, dtype: int64"
      ]
     },
     "execution_count": 36,
     "metadata": {},
     "output_type": "execute_result"
    }
   ],
   "source": [
    "#미분류를 기타로 바꾸기 \n",
    "\n",
    "my_dict = {'미분류': '기타'}\n",
    "df['도로형태_대범주'] = df['도로형태_대범주'].replace(my_dict)\n",
    "df['도로형태_대범주'].value_counts()"
   ]
  },
  {
   "cell_type": "markdown",
   "id": "29fcb3f9",
   "metadata": {},
   "source": [
    "### <span style=\"color:#004f9f\"> 2.2. 수치형 변수 이상치 처리 </span>"
   ]
  },
  {
   "cell_type": "code",
   "execution_count": 37,
   "id": "85ec9a7e",
   "metadata": {},
   "outputs": [
    {
     "data": {
      "text/html": [
       "<div>\n",
       "<style scoped>\n",
       "    .dataframe tbody tr th:only-of-type {\n",
       "        vertical-align: middle;\n",
       "    }\n",
       "\n",
       "    .dataframe tbody tr th {\n",
       "        vertical-align: top;\n",
       "    }\n",
       "\n",
       "    .dataframe thead th {\n",
       "        text-align: right;\n",
       "    }\n",
       "</style>\n",
       "<table border=\"1\" class=\"dataframe\">\n",
       "  <thead>\n",
       "    <tr style=\"text-align: right;\">\n",
       "      <th></th>\n",
       "      <th>count</th>\n",
       "      <th>mean</th>\n",
       "      <th>std</th>\n",
       "      <th>min</th>\n",
       "      <th>25%</th>\n",
       "      <th>50%</th>\n",
       "      <th>75%</th>\n",
       "      <th>max</th>\n",
       "    </tr>\n",
       "  </thead>\n",
       "  <tbody>\n",
       "    <tr>\n",
       "      <th>사고년도</th>\n",
       "      <td>74485.0</td>\n",
       "      <td>2019.472941</td>\n",
       "      <td>0.499271</td>\n",
       "      <td>2019.0</td>\n",
       "      <td>2019.0</td>\n",
       "      <td>2019.0</td>\n",
       "      <td>2020.0</td>\n",
       "      <td>2020.0</td>\n",
       "    </tr>\n",
       "    <tr>\n",
       "      <th>사고월</th>\n",
       "      <td>74485.0</td>\n",
       "      <td>6.635564</td>\n",
       "      <td>3.394929</td>\n",
       "      <td>1.0</td>\n",
       "      <td>4.0</td>\n",
       "      <td>7.0</td>\n",
       "      <td>10.0</td>\n",
       "      <td>12.0</td>\n",
       "    </tr>\n",
       "    <tr>\n",
       "      <th>사고일</th>\n",
       "      <td>74485.0</td>\n",
       "      <td>15.915795</td>\n",
       "      <td>8.711574</td>\n",
       "      <td>1.0</td>\n",
       "      <td>8.0</td>\n",
       "      <td>16.0</td>\n",
       "      <td>23.0</td>\n",
       "      <td>31.0</td>\n",
       "    </tr>\n",
       "    <tr>\n",
       "      <th>사고시각</th>\n",
       "      <td>74485.0</td>\n",
       "      <td>13.500007</td>\n",
       "      <td>6.157449</td>\n",
       "      <td>0.0</td>\n",
       "      <td>9.0</td>\n",
       "      <td>14.0</td>\n",
       "      <td>18.0</td>\n",
       "      <td>23.0</td>\n",
       "    </tr>\n",
       "    <tr>\n",
       "      <th>사고요일</th>\n",
       "      <td>74485.0</td>\n",
       "      <td>2.887373</td>\n",
       "      <td>1.928994</td>\n",
       "      <td>0.0</td>\n",
       "      <td>1.0</td>\n",
       "      <td>3.0</td>\n",
       "      <td>4.0</td>\n",
       "      <td>6.0</td>\n",
       "    </tr>\n",
       "    <tr>\n",
       "      <th>사망자수</th>\n",
       "      <td>74485.0</td>\n",
       "      <td>0.006297</td>\n",
       "      <td>0.079271</td>\n",
       "      <td>0.0</td>\n",
       "      <td>0.0</td>\n",
       "      <td>0.0</td>\n",
       "      <td>0.0</td>\n",
       "      <td>2.0</td>\n",
       "    </tr>\n",
       "    <tr>\n",
       "      <th>중상자수</th>\n",
       "      <td>74485.0</td>\n",
       "      <td>0.260616</td>\n",
       "      <td>0.496658</td>\n",
       "      <td>0.0</td>\n",
       "      <td>0.0</td>\n",
       "      <td>0.0</td>\n",
       "      <td>0.0</td>\n",
       "      <td>11.0</td>\n",
       "    </tr>\n",
       "    <tr>\n",
       "      <th>경상자수</th>\n",
       "      <td>74485.0</td>\n",
       "      <td>0.985406</td>\n",
       "      <td>0.951337</td>\n",
       "      <td>0.0</td>\n",
       "      <td>0.0</td>\n",
       "      <td>1.0</td>\n",
       "      <td>1.0</td>\n",
       "      <td>41.0</td>\n",
       "    </tr>\n",
       "    <tr>\n",
       "      <th>부상신고자수</th>\n",
       "      <td>74485.0</td>\n",
       "      <td>0.115553</td>\n",
       "      <td>0.429224</td>\n",
       "      <td>0.0</td>\n",
       "      <td>0.0</td>\n",
       "      <td>0.0</td>\n",
       "      <td>0.0</td>\n",
       "      <td>47.0</td>\n",
       "    </tr>\n",
       "    <tr>\n",
       "      <th>가해운전자연령</th>\n",
       "      <td>74485.0</td>\n",
       "      <td>48.109203</td>\n",
       "      <td>15.521762</td>\n",
       "      <td>5.0</td>\n",
       "      <td>36.0</td>\n",
       "      <td>50.0</td>\n",
       "      <td>60.0</td>\n",
       "      <td>98.0</td>\n",
       "    </tr>\n",
       "    <tr>\n",
       "      <th>피해운전자연령</th>\n",
       "      <td>74485.0</td>\n",
       "      <td>45.356985</td>\n",
       "      <td>16.114210</td>\n",
       "      <td>1.0</td>\n",
       "      <td>33.0</td>\n",
       "      <td>45.0</td>\n",
       "      <td>58.0</td>\n",
       "      <td>98.0</td>\n",
       "    </tr>\n",
       "  </tbody>\n",
       "</table>\n",
       "</div>"
      ],
      "text/plain": [
       "           count         mean        std     min     25%     50%     75%  \\\n",
       "사고년도     74485.0  2019.472941   0.499271  2019.0  2019.0  2019.0  2020.0   \n",
       "사고월      74485.0     6.635564   3.394929     1.0     4.0     7.0    10.0   \n",
       "사고일      74485.0    15.915795   8.711574     1.0     8.0    16.0    23.0   \n",
       "사고시각     74485.0    13.500007   6.157449     0.0     9.0    14.0    18.0   \n",
       "사고요일     74485.0     2.887373   1.928994     0.0     1.0     3.0     4.0   \n",
       "사망자수     74485.0     0.006297   0.079271     0.0     0.0     0.0     0.0   \n",
       "중상자수     74485.0     0.260616   0.496658     0.0     0.0     0.0     0.0   \n",
       "경상자수     74485.0     0.985406   0.951337     0.0     0.0     1.0     1.0   \n",
       "부상신고자수   74485.0     0.115553   0.429224     0.0     0.0     0.0     0.0   \n",
       "가해운전자연령  74485.0    48.109203  15.521762     5.0    36.0    50.0    60.0   \n",
       "피해운전자연령  74485.0    45.356985  16.114210     1.0    33.0    45.0    58.0   \n",
       "\n",
       "            max  \n",
       "사고년도     2020.0  \n",
       "사고월        12.0  \n",
       "사고일        31.0  \n",
       "사고시각       23.0  \n",
       "사고요일        6.0  \n",
       "사망자수        2.0  \n",
       "중상자수       11.0  \n",
       "경상자수       41.0  \n",
       "부상신고자수     47.0  \n",
       "가해운전자연령    98.0  \n",
       "피해운전자연령    98.0  "
      ]
     },
     "execution_count": 37,
     "metadata": {},
     "output_type": "execute_result"
    }
   ],
   "source": [
    "#describe로 시작 (min-max값 확인하자)\n",
    "#이상함을 느끼면 25 %, 75% 값도 확인 -> 이 값들은 무조건 상식과 맞아야함 (아니면 잘못된 데이터)\n",
    "\n",
    "df.describe().T"
   ]
  },
  {
   "cell_type": "code",
   "execution_count": 38,
   "id": "2a50c34a",
   "metadata": {},
   "outputs": [
    {
     "data": {
      "text/plain": [
       "18"
      ]
     },
     "execution_count": 38,
     "metadata": {},
     "output_type": "execute_result"
    }
   ],
   "source": [
    "#where\n",
    "\n",
    "c = df['가해운전자연령']<90  #90세 미만만 정상으로 생각 \n",
    "temp = df['가해운전자연령'].where(c, np.nan) \n",
    "#where인 경우 c가 true이면 가해운전자연령 그대로, false이면 뒤에 있는 np.nan으로 \n",
    "temp.isnull().sum()"
   ]
  },
  {
   "cell_type": "code",
   "execution_count": 39,
   "id": "ec2c302f",
   "metadata": {},
   "outputs": [
    {
     "data": {
      "text/html": [
       "<div>\n",
       "<style scoped>\n",
       "    .dataframe tbody tr th:only-of-type {\n",
       "        vertical-align: middle;\n",
       "    }\n",
       "\n",
       "    .dataframe tbody tr th {\n",
       "        vertical-align: top;\n",
       "    }\n",
       "\n",
       "    .dataframe thead th {\n",
       "        text-align: right;\n",
       "    }\n",
       "</style>\n",
       "<table border=\"1\" class=\"dataframe\">\n",
       "  <thead>\n",
       "    <tr style=\"text-align: right;\">\n",
       "      <th></th>\n",
       "      <th>count</th>\n",
       "      <th>mean</th>\n",
       "      <th>std</th>\n",
       "      <th>min</th>\n",
       "      <th>25%</th>\n",
       "      <th>50%</th>\n",
       "      <th>75%</th>\n",
       "      <th>max</th>\n",
       "    </tr>\n",
       "  </thead>\n",
       "  <tbody>\n",
       "    <tr>\n",
       "      <th>사고년도</th>\n",
       "      <td>74485.0</td>\n",
       "      <td>2019.472941</td>\n",
       "      <td>0.499271</td>\n",
       "      <td>2019.0</td>\n",
       "      <td>2019.0</td>\n",
       "      <td>2019.0</td>\n",
       "      <td>2020.0</td>\n",
       "      <td>2020.0</td>\n",
       "    </tr>\n",
       "    <tr>\n",
       "      <th>사고월</th>\n",
       "      <td>74485.0</td>\n",
       "      <td>6.635564</td>\n",
       "      <td>3.394929</td>\n",
       "      <td>1.0</td>\n",
       "      <td>4.0</td>\n",
       "      <td>7.0</td>\n",
       "      <td>10.0</td>\n",
       "      <td>12.0</td>\n",
       "    </tr>\n",
       "    <tr>\n",
       "      <th>사고일</th>\n",
       "      <td>74485.0</td>\n",
       "      <td>15.915795</td>\n",
       "      <td>8.711574</td>\n",
       "      <td>1.0</td>\n",
       "      <td>8.0</td>\n",
       "      <td>16.0</td>\n",
       "      <td>23.0</td>\n",
       "      <td>31.0</td>\n",
       "    </tr>\n",
       "    <tr>\n",
       "      <th>사고시각</th>\n",
       "      <td>74485.0</td>\n",
       "      <td>13.500007</td>\n",
       "      <td>6.157449</td>\n",
       "      <td>0.0</td>\n",
       "      <td>9.0</td>\n",
       "      <td>14.0</td>\n",
       "      <td>18.0</td>\n",
       "      <td>23.0</td>\n",
       "    </tr>\n",
       "    <tr>\n",
       "      <th>사고요일</th>\n",
       "      <td>74485.0</td>\n",
       "      <td>2.887373</td>\n",
       "      <td>1.928994</td>\n",
       "      <td>0.0</td>\n",
       "      <td>1.0</td>\n",
       "      <td>3.0</td>\n",
       "      <td>4.0</td>\n",
       "      <td>6.0</td>\n",
       "    </tr>\n",
       "    <tr>\n",
       "      <th>사망자수</th>\n",
       "      <td>74485.0</td>\n",
       "      <td>0.006297</td>\n",
       "      <td>0.079271</td>\n",
       "      <td>0.0</td>\n",
       "      <td>0.0</td>\n",
       "      <td>0.0</td>\n",
       "      <td>0.0</td>\n",
       "      <td>2.0</td>\n",
       "    </tr>\n",
       "    <tr>\n",
       "      <th>중상자수</th>\n",
       "      <td>74485.0</td>\n",
       "      <td>0.260616</td>\n",
       "      <td>0.496658</td>\n",
       "      <td>0.0</td>\n",
       "      <td>0.0</td>\n",
       "      <td>0.0</td>\n",
       "      <td>0.0</td>\n",
       "      <td>11.0</td>\n",
       "    </tr>\n",
       "    <tr>\n",
       "      <th>경상자수</th>\n",
       "      <td>74485.0</td>\n",
       "      <td>0.985406</td>\n",
       "      <td>0.951337</td>\n",
       "      <td>0.0</td>\n",
       "      <td>0.0</td>\n",
       "      <td>1.0</td>\n",
       "      <td>1.0</td>\n",
       "      <td>41.0</td>\n",
       "    </tr>\n",
       "    <tr>\n",
       "      <th>부상신고자수</th>\n",
       "      <td>74485.0</td>\n",
       "      <td>0.115553</td>\n",
       "      <td>0.429224</td>\n",
       "      <td>0.0</td>\n",
       "      <td>0.0</td>\n",
       "      <td>0.0</td>\n",
       "      <td>0.0</td>\n",
       "      <td>47.0</td>\n",
       "    </tr>\n",
       "    <tr>\n",
       "      <th>가해운전자연령</th>\n",
       "      <td>74485.0</td>\n",
       "      <td>48.192723</td>\n",
       "      <td>15.271282</td>\n",
       "      <td>20.0</td>\n",
       "      <td>36.0</td>\n",
       "      <td>50.0</td>\n",
       "      <td>60.0</td>\n",
       "      <td>80.0</td>\n",
       "    </tr>\n",
       "    <tr>\n",
       "      <th>피해운전자연령</th>\n",
       "      <td>74485.0</td>\n",
       "      <td>45.356985</td>\n",
       "      <td>16.114210</td>\n",
       "      <td>1.0</td>\n",
       "      <td>33.0</td>\n",
       "      <td>45.0</td>\n",
       "      <td>58.0</td>\n",
       "      <td>98.0</td>\n",
       "    </tr>\n",
       "  </tbody>\n",
       "</table>\n",
       "</div>"
      ],
      "text/plain": [
       "           count         mean        std     min     25%     50%     75%  \\\n",
       "사고년도     74485.0  2019.472941   0.499271  2019.0  2019.0  2019.0  2020.0   \n",
       "사고월      74485.0     6.635564   3.394929     1.0     4.0     7.0    10.0   \n",
       "사고일      74485.0    15.915795   8.711574     1.0     8.0    16.0    23.0   \n",
       "사고시각     74485.0    13.500007   6.157449     0.0     9.0    14.0    18.0   \n",
       "사고요일     74485.0     2.887373   1.928994     0.0     1.0     3.0     4.0   \n",
       "사망자수     74485.0     0.006297   0.079271     0.0     0.0     0.0     0.0   \n",
       "중상자수     74485.0     0.260616   0.496658     0.0     0.0     0.0     0.0   \n",
       "경상자수     74485.0     0.985406   0.951337     0.0     0.0     1.0     1.0   \n",
       "부상신고자수   74485.0     0.115553   0.429224     0.0     0.0     0.0     0.0   \n",
       "가해운전자연령  74485.0    48.192723  15.271282    20.0    36.0    50.0    60.0   \n",
       "피해운전자연령  74485.0    45.356985  16.114210     1.0    33.0    45.0    58.0   \n",
       "\n",
       "            max  \n",
       "사고년도     2020.0  \n",
       "사고월        12.0  \n",
       "사고일        31.0  \n",
       "사고시각       23.0  \n",
       "사고요일        6.0  \n",
       "사망자수        2.0  \n",
       "중상자수       11.0  \n",
       "경상자수       41.0  \n",
       "부상신고자수     47.0  \n",
       "가해운전자연령    80.0  \n",
       "피해운전자연령    98.0  "
      ]
     },
     "execution_count": 39,
     "metadata": {},
     "output_type": "execute_result"
    }
   ],
   "source": [
    "#clip\n",
    "\n",
    "df['가해운전자연령'] = df['가해운전자연령'].clip(lower=20, upper=80)\n",
    "df.describe().T"
   ]
  },
  {
   "cell_type": "markdown",
   "id": "5ad4b573",
   "metadata": {},
   "source": [
    "#### <span style=\"color: #00a470\"> [Exercise02] 이상치 처리하기 </span>\n",
    "- 범주형 변수 이상치 처리하기 : 피해운전자차종\n",
    "- 수치형 변수 이상치 처리하기 : 피해운전자연령"
   ]
  },
  {
   "cell_type": "markdown",
   "id": "91295e4a",
   "metadata": {},
   "source": [
    "['피해운전자차종'] 이상치 처리"
   ]
  },
  {
   "cell_type": "code",
   "execution_count": 40,
   "id": "4dbc3e48",
   "metadata": {},
   "outputs": [
    {
     "data": {
      "text/plain": [
       "승용             33561\n",
       "보행자            17567\n",
       "이륜              9731\n",
       "자전거             3240\n",
       "승합              3039\n",
       "화물              2962\n",
       "기타불명            2475\n",
       "원동기             1277\n",
       "개인형이동수단(PM)      295\n",
       "건설기계             202\n",
       "특수               109\n",
       "사륜오토바이(ATV)       26\n",
       "농기계                1\n",
       "Name: 피해운전자차종, dtype: int64"
      ]
     },
     "execution_count": 40,
     "metadata": {},
     "output_type": "execute_result"
    }
   ],
   "source": [
    "df['피해운전자차종'].value_counts()"
   ]
  },
  {
   "cell_type": "code",
   "execution_count": 41,
   "id": "38943ecb",
   "metadata": {},
   "outputs": [
    {
     "data": {
      "text/plain": [
       "승용             33561\n",
       "보행자            17567\n",
       "이륜              9731\n",
       "자전거             3240\n",
       "승합              3039\n",
       "화물              2962\n",
       "기타불명            2502\n",
       "원동기             1277\n",
       "개인형이동수단(PM)      295\n",
       "건설기계             202\n",
       "특수               109\n",
       "Name: 피해운전자차종, dtype: int64"
      ]
     },
     "execution_count": 41,
     "metadata": {},
     "output_type": "execute_result"
    }
   ],
   "source": [
    "dic = {'농기계' : '기타불명', '사륜오토바이(ATV)' : '기타불명'}\n",
    "\n",
    "df['피해운전자차종'] = df['피해운전자차종'].replace(dic)\n",
    "df['피해운전자차종'].value_counts()"
   ]
  },
  {
   "cell_type": "markdown",
   "id": "373b3dd3",
   "metadata": {},
   "source": [
    "['피해운전자연령'] 이상치 처리"
   ]
  },
  {
   "cell_type": "code",
   "execution_count": 42,
   "id": "d9401139",
   "metadata": {},
   "outputs": [
    {
     "data": {
      "text/plain": [
       "count    74485.000000\n",
       "mean        45.356985\n",
       "std         16.114210\n",
       "min          1.000000\n",
       "25%         33.000000\n",
       "50%         45.000000\n",
       "75%         58.000000\n",
       "max         98.000000\n",
       "Name: 피해운전자연령, dtype: float64"
      ]
     },
     "execution_count": 42,
     "metadata": {},
     "output_type": "execute_result"
    }
   ],
   "source": [
    "df['피해운전자연령'].describe().T"
   ]
  },
  {
   "cell_type": "code",
   "execution_count": 43,
   "id": "0f269dfc",
   "metadata": {},
   "outputs": [
    {
     "data": {
      "text/plain": [
       "10"
      ]
     },
     "execution_count": 43,
     "metadata": {},
     "output_type": "execute_result"
    }
   ],
   "source": [
    "#where 사용 : 평균 + 표준편차*3 범위 (~93.699615)이므로 94세 미만을 정상 범주로 취급 \n",
    "\n",
    "x = df['피해운전자연령'] < 94\n",
    "tem = df['피해운전자연령'].where(x, np.nan)\n",
    "tem.isnull().sum()\n",
    "\n",
    "#10개 결측치 제거할 경우 코드 \n",
    "#df['피해운전자연령'].dropna()"
   ]
  },
  {
   "cell_type": "code",
   "execution_count": 44,
   "id": "199b908a",
   "metadata": {},
   "outputs": [],
   "source": [
    "#clip 범위를 확인하기 위해 10세 미만이거나 90세 이상인 값이 얼마나 되는지 확인 \n",
    "# df['test'] = df.apply(lambda x : x['피해운전자연령']<10 or x['피해운전자연령']>90, axis=1)\n",
    "# df['test'].value_counts()"
   ]
  },
  {
   "cell_type": "code",
   "execution_count": 45,
   "id": "abc48c35",
   "metadata": {},
   "outputs": [
    {
     "data": {
      "text/html": [
       "<div>\n",
       "<style scoped>\n",
       "    .dataframe tbody tr th:only-of-type {\n",
       "        vertical-align: middle;\n",
       "    }\n",
       "\n",
       "    .dataframe tbody tr th {\n",
       "        vertical-align: top;\n",
       "    }\n",
       "\n",
       "    .dataframe thead th {\n",
       "        text-align: right;\n",
       "    }\n",
       "</style>\n",
       "<table border=\"1\" class=\"dataframe\">\n",
       "  <thead>\n",
       "    <tr style=\"text-align: right;\">\n",
       "      <th></th>\n",
       "      <th>count</th>\n",
       "      <th>mean</th>\n",
       "      <th>std</th>\n",
       "      <th>min</th>\n",
       "      <th>25%</th>\n",
       "      <th>50%</th>\n",
       "      <th>75%</th>\n",
       "      <th>max</th>\n",
       "    </tr>\n",
       "  </thead>\n",
       "  <tbody>\n",
       "    <tr>\n",
       "      <th>사고년도</th>\n",
       "      <td>74485.0</td>\n",
       "      <td>2019.472941</td>\n",
       "      <td>0.499271</td>\n",
       "      <td>2019.0</td>\n",
       "      <td>2019.0</td>\n",
       "      <td>2019.0</td>\n",
       "      <td>2020.0</td>\n",
       "      <td>2020.0</td>\n",
       "    </tr>\n",
       "    <tr>\n",
       "      <th>사고월</th>\n",
       "      <td>74485.0</td>\n",
       "      <td>6.635564</td>\n",
       "      <td>3.394929</td>\n",
       "      <td>1.0</td>\n",
       "      <td>4.0</td>\n",
       "      <td>7.0</td>\n",
       "      <td>10.0</td>\n",
       "      <td>12.0</td>\n",
       "    </tr>\n",
       "    <tr>\n",
       "      <th>사고일</th>\n",
       "      <td>74485.0</td>\n",
       "      <td>15.915795</td>\n",
       "      <td>8.711574</td>\n",
       "      <td>1.0</td>\n",
       "      <td>8.0</td>\n",
       "      <td>16.0</td>\n",
       "      <td>23.0</td>\n",
       "      <td>31.0</td>\n",
       "    </tr>\n",
       "    <tr>\n",
       "      <th>사고시각</th>\n",
       "      <td>74485.0</td>\n",
       "      <td>13.500007</td>\n",
       "      <td>6.157449</td>\n",
       "      <td>0.0</td>\n",
       "      <td>9.0</td>\n",
       "      <td>14.0</td>\n",
       "      <td>18.0</td>\n",
       "      <td>23.0</td>\n",
       "    </tr>\n",
       "    <tr>\n",
       "      <th>사고요일</th>\n",
       "      <td>74485.0</td>\n",
       "      <td>2.887373</td>\n",
       "      <td>1.928994</td>\n",
       "      <td>0.0</td>\n",
       "      <td>1.0</td>\n",
       "      <td>3.0</td>\n",
       "      <td>4.0</td>\n",
       "      <td>6.0</td>\n",
       "    </tr>\n",
       "    <tr>\n",
       "      <th>사망자수</th>\n",
       "      <td>74485.0</td>\n",
       "      <td>0.006297</td>\n",
       "      <td>0.079271</td>\n",
       "      <td>0.0</td>\n",
       "      <td>0.0</td>\n",
       "      <td>0.0</td>\n",
       "      <td>0.0</td>\n",
       "      <td>2.0</td>\n",
       "    </tr>\n",
       "    <tr>\n",
       "      <th>중상자수</th>\n",
       "      <td>74485.0</td>\n",
       "      <td>0.260616</td>\n",
       "      <td>0.496658</td>\n",
       "      <td>0.0</td>\n",
       "      <td>0.0</td>\n",
       "      <td>0.0</td>\n",
       "      <td>0.0</td>\n",
       "      <td>11.0</td>\n",
       "    </tr>\n",
       "    <tr>\n",
       "      <th>경상자수</th>\n",
       "      <td>74485.0</td>\n",
       "      <td>0.985406</td>\n",
       "      <td>0.951337</td>\n",
       "      <td>0.0</td>\n",
       "      <td>0.0</td>\n",
       "      <td>1.0</td>\n",
       "      <td>1.0</td>\n",
       "      <td>41.0</td>\n",
       "    </tr>\n",
       "    <tr>\n",
       "      <th>부상신고자수</th>\n",
       "      <td>74485.0</td>\n",
       "      <td>0.115553</td>\n",
       "      <td>0.429224</td>\n",
       "      <td>0.0</td>\n",
       "      <td>0.0</td>\n",
       "      <td>0.0</td>\n",
       "      <td>0.0</td>\n",
       "      <td>47.0</td>\n",
       "    </tr>\n",
       "    <tr>\n",
       "      <th>가해운전자연령</th>\n",
       "      <td>74485.0</td>\n",
       "      <td>48.192723</td>\n",
       "      <td>15.271282</td>\n",
       "      <td>20.0</td>\n",
       "      <td>36.0</td>\n",
       "      <td>50.0</td>\n",
       "      <td>60.0</td>\n",
       "      <td>80.0</td>\n",
       "    </tr>\n",
       "    <tr>\n",
       "      <th>피해운전자연령</th>\n",
       "      <td>74485.0</td>\n",
       "      <td>45.383809</td>\n",
       "      <td>16.045821</td>\n",
       "      <td>10.0</td>\n",
       "      <td>33.0</td>\n",
       "      <td>45.0</td>\n",
       "      <td>58.0</td>\n",
       "      <td>90.0</td>\n",
       "    </tr>\n",
       "  </tbody>\n",
       "</table>\n",
       "</div>"
      ],
      "text/plain": [
       "           count         mean        std     min     25%     50%     75%  \\\n",
       "사고년도     74485.0  2019.472941   0.499271  2019.0  2019.0  2019.0  2020.0   \n",
       "사고월      74485.0     6.635564   3.394929     1.0     4.0     7.0    10.0   \n",
       "사고일      74485.0    15.915795   8.711574     1.0     8.0    16.0    23.0   \n",
       "사고시각     74485.0    13.500007   6.157449     0.0     9.0    14.0    18.0   \n",
       "사고요일     74485.0     2.887373   1.928994     0.0     1.0     3.0     4.0   \n",
       "사망자수     74485.0     0.006297   0.079271     0.0     0.0     0.0     0.0   \n",
       "중상자수     74485.0     0.260616   0.496658     0.0     0.0     0.0     0.0   \n",
       "경상자수     74485.0     0.985406   0.951337     0.0     0.0     1.0     1.0   \n",
       "부상신고자수   74485.0     0.115553   0.429224     0.0     0.0     0.0     0.0   \n",
       "가해운전자연령  74485.0    48.192723  15.271282    20.0    36.0    50.0    60.0   \n",
       "피해운전자연령  74485.0    45.383809  16.045821    10.0    33.0    45.0    58.0   \n",
       "\n",
       "            max  \n",
       "사고년도     2020.0  \n",
       "사고월        12.0  \n",
       "사고일        31.0  \n",
       "사고시각       23.0  \n",
       "사고요일        6.0  \n",
       "사망자수        2.0  \n",
       "중상자수       11.0  \n",
       "경상자수       41.0  \n",
       "부상신고자수     47.0  \n",
       "가해운전자연령    80.0  \n",
       "피해운전자연령    90.0  "
      ]
     },
     "execution_count": 45,
     "metadata": {},
     "output_type": "execute_result"
    }
   ],
   "source": [
    "#clip 사용 \n",
    "\n",
    "df['피해운전자연령'] = df['피해운전자연령'].clip(lower=10, upper=90)\n",
    "df.describe().T"
   ]
  }
 ],
 "metadata": {
  "kernelspec": {
   "display_name": "Python 3 (ipykernel)",
   "language": "python",
   "name": "python3"
  },
  "language_info": {
   "codemirror_mode": {
    "name": "ipython",
    "version": 3
   },
   "file_extension": ".py",
   "mimetype": "text/x-python",
   "name": "python",
   "nbconvert_exporter": "python",
   "pygments_lexer": "ipython3",
   "version": "3.9.7"
  }
 },
 "nbformat": 4,
 "nbformat_minor": 5
}
