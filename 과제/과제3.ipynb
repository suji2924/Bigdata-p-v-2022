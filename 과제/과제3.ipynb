{
 "cells": [
  {
   "cell_type": "markdown",
   "id": "c7baec8a",
   "metadata": {},
   "source": [
    " ## <span style=\"color:#004f9f\"> 1. 함수 연습 </span>"
   ]
  },
  {
   "cell_type": "markdown",
   "id": "51d91069",
   "metadata": {},
   "source": [
    "**문항1]** 다음 2개의 행렬을 더하는 함수 my_addition을 작성하여 다음과 같이 정상적으로 출력되도록 하세요.\n",
    "\n",
    "[[4, 9], [7, 4]]"
   ]
  },
  {
   "cell_type": "code",
   "execution_count": 38,
   "id": "b5c11f1e",
   "metadata": {},
   "outputs": [
    {
     "data": {
      "text/plain": [
       "[[4, 9], [7, 4]]"
      ]
     },
     "execution_count": 38,
     "metadata": {},
     "output_type": "execute_result"
    }
   ],
   "source": [
    "def my_addtion(x, y):\n",
    "    new = [[c+d for c, d in zip(a, b)] for a, b in zip(matrix_x, matrix_y)]\n",
    "    return new\n",
    "\n",
    "matrix_x = [[2,5], [2,1]]\n",
    "matrix_y = [[2,4], [5,3]]\n",
    "my_addtion(matrix_x, matrix_y)"
   ]
  },
  {
   "cell_type": "markdown",
   "id": "4b7bc640",
   "metadata": {},
   "source": [
    "**문항2]** FizzBuzz 함수 만들기\n",
    "- 시작값과 끝값을 인자로 받는 함수\n",
    "- 시작값부터 끝값까지 순서대로 출력\n",
    "- 3의 배수인 경우는 Fizz 출력\n",
    "- 5의 배수인 경우는 Buzz 출력\n",
    "- 15의 배수인 경우는 FizzBuzz출력\n",
    "- 예] 1, 16을 입력한 경우 : 1 2 Fizz 4 Buzz Fizz 7 8 Fizz 10 11 Fizz 13 14 FizzBuzz 16"
   ]
  },
  {
   "cell_type": "code",
   "execution_count": 60,
   "id": "c513e617",
   "metadata": {},
   "outputs": [
    {
     "name": "stdout",
     "output_type": "stream",
     "text": [
      "시작값을 입력하세요 : 1\n",
      "끝값을 입력하세요 : 16\n",
      "1  2  Fizz  4  Buzz  Fizz  7  8  Fizz  Buzz  11  Fizz  13  14  FizzBuzz  16  "
     ]
    }
   ],
   "source": [
    "def FizzBuzz(x, y):\n",
    "    for i in range(x,y+1):\n",
    "        if (i%15)==0:\n",
    "            print('FizzBuzz', ' ', end='')\n",
    "        elif (i%3)==0:\n",
    "            print('Fizz', ' ', end='')\n",
    "        elif (i%5)==0:\n",
    "            print('Buzz', ' ', end='')\n",
    "        else:\n",
    "            print(i, ' ', end='')\n",
    "\n",
    "n1 = int(input('시작값을 입력하세요 : '))\n",
    "n2 = int(input('끝값을 입력하세요 : '))\n",
    "FizzBuzz(n1, n2)"
   ]
  },
  {
   "cell_type": "markdown",
   "id": "24c6a8fa",
   "metadata": {},
   "source": [
    " ## <span style=\"color:#004f9f\"> 2. 구구단 계산기 VER02 </span>\n",
    " - 사용자가 원하는 구구단을 출력\n",
    " - 1~9단이 아닌 경우에는 재입력\n",
    " - 숫자를 입력하지 않은 경우에는 재입력\n",
    " - 0을 입력할 경우 종료"
   ]
  },
  {
   "cell_type": "code",
   "execution_count": 90,
   "id": "c584aaa8",
   "metadata": {},
   "outputs": [
    {
     "name": "stdout",
     "output_type": "stream",
     "text": [
      "숫자를 입력하세요 : ㄴ\n",
      "다시 입력하세요.\n",
      "숫자를 입력하세요 : 1\n",
      "1 단\n",
      "1 * 1 = 1\n",
      "1 * 2 = 2\n",
      "1 * 3 = 3\n",
      "1 * 4 = 4\n",
      "1 * 5 = 5\n",
      "1 * 6 = 6\n",
      "1 * 7 = 7\n",
      "1 * 8 = 8\n",
      "1 * 9 = 9\n"
     ]
    }
   ],
   "source": [
    "def multiple(n):\n",
    "    print(n, '단')\n",
    "    for i in range(1,10):\n",
    "        print(f'{n} * {i} = {n*i}')\n",
    "\n",
    "while True:\n",
    "    try:\n",
    "        num = int(input('숫자를 입력하세요 : '))\n",
    "        \n",
    "        if (num<0) or (num>9):\n",
    "            print('다시 입력하세요.')\n",
    "            continue\n",
    "        elif num==0:\n",
    "            print('종료')\n",
    "            break\n",
    "    \n",
    "        multiple(num)\n",
    "        break\n",
    "        \n",
    "    except ValueError:\n",
    "        print('다시 입력하세요.')\n"
   ]
  }
 ],
 "metadata": {
  "kernelspec": {
   "display_name": "Python 3 (ipykernel)",
   "language": "python",
   "name": "python3"
  },
  "language_info": {
   "codemirror_mode": {
    "name": "ipython",
    "version": 3
   },
   "file_extension": ".py",
   "mimetype": "text/x-python",
   "name": "python",
   "nbconvert_exporter": "python",
   "pygments_lexer": "ipython3",
   "version": "3.9.7"
  }
 },
 "nbformat": 4,
 "nbformat_minor": 5
}
