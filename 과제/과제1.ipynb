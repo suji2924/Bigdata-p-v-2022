{
 "cells": [
  {
   "cell_type": "markdown",
   "id": "49877851",
   "metadata": {},
   "source": [
    " ## <span style=\"color:#004f9f\"> 1. 거스름돈을 알려주는 프로그램 </span>"
   ]
  },
  {
   "cell_type": "markdown",
   "id": "a8affe3b",
   "metadata": {},
   "source": [
    "- 사용자가 물건의 가격과 지불한 금액을 입력\n",
    "- 물건 가격과 지불한 금액은 100원 단위\n",
    "- 거스름돈을 계산해주되 동전의 개수는 최대한 적게\n",
    "- 거스름돈은 500원, 100원짜리로만 계산"
   ]
  },
  {
   "cell_type": "code",
   "execution_count": 1,
   "id": "3cd04c71",
   "metadata": {},
   "outputs": [
    {
     "name": "stdout",
     "output_type": "stream",
     "text": [
      "물건의 가격을 입력하세요 : 300\n",
      "지불한 금액을 입력하세요: 200\n",
      "\n",
      "거스름돈 총액 :  100 원\n",
      "500원 개수 :  0 개\n",
      "100원 개수 :  1 개\n"
     ]
    }
   ],
   "source": [
    "price = int(input('물건의 가격을 입력하세요 : '))\n",
    "pay = int(input('지불한 금액을 입력하세요: '))\n",
    "\n",
    "change = price-pay\n",
    "\n",
    "five_hun = int(change/500)\n",
    "\n",
    "af_change = change%500\n",
    "\n",
    "one_hun = int(af_change/100)\n",
    "    \n",
    "print()\n",
    "print('거스름돈 총액 : ', change, '원')\n",
    "print('500원 개수 : ', five_hun, '개')\n",
    "print('100원 개수 : ', one_hun, '개')"
   ]
  },
  {
   "cell_type": "markdown",
   "id": "4ccdf38e",
   "metadata": {},
   "source": [
    " ## <span style=\"color:#004f9f\"> 2. 자료구조 인덱싱과 슬라이싱 </span>"
   ]
  },
  {
   "cell_type": "markdown",
   "id": "42a01ee0",
   "metadata": {},
   "source": [
    "- 다음의 (과일이름, 과일개수) 튜플로 구성된 리스트를 활용하여 다음의 문항을 해결하세요"
   ]
  },
  {
   "cell_type": "code",
   "execution_count": 55,
   "id": "b59d8ac6",
   "metadata": {},
   "outputs": [],
   "source": [
    "import numpy as np\n",
    "\n",
    "fruit = [('apple', np.random.randint(1,11)), \n",
    "         ('banana', np.random.randint(1,11)),\n",
    "         ('cherry', np.random.randint(1,11)),\n",
    "         ('grape', np.random.randint(1,11)),\n",
    "         ('orange', np.random.randint(1,11)),\n",
    "         ('strawberry', np.random.randint(1,11)),\n",
    "         ('melon', np.random.randint(1,11))]"
   ]
  },
  {
   "cell_type": "markdown",
   "id": "2144ac11",
   "metadata": {},
   "source": [
    "**문항1]** fruit의 마지막 두 개 튜플(tuple)을 출력하세요."
   ]
  },
  {
   "cell_type": "code",
   "execution_count": 64,
   "id": "e3006218",
   "metadata": {},
   "outputs": [
    {
     "data": {
      "text/plain": [
       "[('melon', 6), ('strawberry', 9)]"
      ]
     },
     "execution_count": 64,
     "metadata": {},
     "output_type": "execute_result"
    }
   ],
   "source": [
    "fruit[-1:-3:-1]"
   ]
  },
  {
   "cell_type": "markdown",
   "id": "4d94204e",
   "metadata": {},
   "source": [
    "**문항2]** fruit리스트에서 'cherry'와 그 개수를 각각 출력하세요."
   ]
  },
  {
   "cell_type": "code",
   "execution_count": 65,
   "id": "f3f1c5be",
   "metadata": {},
   "outputs": [
    {
     "data": {
      "text/plain": [
       "('cherry', 8)"
      ]
     },
     "execution_count": 65,
     "metadata": {},
     "output_type": "execute_result"
    }
   ],
   "source": [
    "fruit[2]"
   ]
  },
  {
   "cell_type": "markdown",
   "id": "51433f83",
   "metadata": {},
   "source": [
    "**문항3]** 'melon'이 3개 있는지 확인하세요. 있다면 True, 없다면 False를 출력하세요."
   ]
  },
  {
   "cell_type": "code",
   "execution_count": 66,
   "id": "262dd4d3",
   "metadata": {},
   "outputs": [
    {
     "data": {
      "text/plain": [
       "False"
      ]
     },
     "execution_count": 66,
     "metadata": {},
     "output_type": "execute_result"
    }
   ],
   "source": [
    "('melon',3) in fruit"
   ]
  },
  {
   "cell_type": "markdown",
   "id": "9e49a2cc",
   "metadata": {},
   "source": [
    " ## <span style=\"color:#004f9f\"> 3. 영한사전 프로그램 </span>"
   ]
  },
  {
   "cell_type": "markdown",
   "id": "89289522",
   "metadata": {},
   "source": [
    "- 다음의 사전을 이용하여 사용자가 영어단어를 입력하면, 맞는 한글단어를 출력하는 프로그램\n",
    "- 사전에 단어가 없다면 '사전에 없는 단어'를 출력"
   ]
  },
  {
   "cell_type": "code",
   "execution_count": 30,
   "id": "1676ab7f",
   "metadata": {},
   "outputs": [],
   "source": [
    "my_dict = {'boy':'소년',\n",
    "           'girl':'소녀',\n",
    "           'milk':'우유',\n",
    "           'pencil':'연필'}"
   ]
  },
  {
   "cell_type": "code",
   "execution_count": 67,
   "id": "e43a3eb4",
   "metadata": {},
   "outputs": [
    {
     "name": "stdout",
     "output_type": "stream",
     "text": [
      "영어단어를 입력하세요 : girl\n"
     ]
    },
    {
     "data": {
      "text/plain": [
       "'소녀'"
      ]
     },
     "execution_count": 67,
     "metadata": {},
     "output_type": "execute_result"
    }
   ],
   "source": [
    "english = input(\"영어단어를 입력하세요 : \")\n",
    "my_dict.get(english, '사전에 없는 단어')"
   ]
  },
  {
   "cell_type": "markdown",
   "id": "ed9cc43b",
   "metadata": {},
   "source": [
    " ## <span style=\"color:#004f9f\"> 4. 편의점 재고 관리 프로그램 </span>"
   ]
  },
  {
   "cell_type": "markdown",
   "id": "a5592df9",
   "metadata": {},
   "source": [
    "- 재고 상황은 다음과 같이 items 변수에 저장\n",
    "- 현재 재고 상황을 출력\n",
    "- 사용자가 판매한 물건명과 수량을 입력하면, 재고 상황에서 해당 물건과 수량만큼 빼준 뒤 판매 후 제고 출력"
   ]
  },
  {
   "cell_type": "code",
   "execution_count": 60,
   "id": "1d04a1d9",
   "metadata": {},
   "outputs": [],
   "source": [
    "items = {'커피':10,\n",
    "         '우유':5,\n",
    "         '라면':8,\n",
    "         '콜라':4}"
   ]
  },
  {
   "cell_type": "code",
   "execution_count": 68,
   "id": "c0922838",
   "metadata": {},
   "outputs": [
    {
     "name": "stdout",
     "output_type": "stream",
     "text": [
      "판매한 물건명 : 커피\n",
      "수량 : 5\n"
     ]
    },
    {
     "data": {
      "text/plain": [
       "{'커피': 5, '우유': 0, '라면': 8, '콜라': 2}"
      ]
     },
     "execution_count": 68,
     "metadata": {},
     "output_type": "execute_result"
    }
   ],
   "source": [
    "sale = input('판매한 물건명 : ')\n",
    "count = int(input('수량 : '))\n",
    "\n",
    "items[sale] = items[sale]-count\n",
    "\n",
    "items\n"
   ]
  }
 ],
 "metadata": {
  "kernelspec": {
   "display_name": "Python 3 (ipykernel)",
   "language": "python",
   "name": "python3"
  },
  "language_info": {
   "codemirror_mode": {
    "name": "ipython",
    "version": 3
   },
   "file_extension": ".py",
   "mimetype": "text/x-python",
   "name": "python",
   "nbconvert_exporter": "python",
   "pygments_lexer": "ipython3",
   "version": "3.9.7"
  }
 },
 "nbformat": 4,
 "nbformat_minor": 5
}
