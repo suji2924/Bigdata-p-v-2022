{
 "cells": [
  {
   "cell_type": "markdown",
   "id": "4ccdf38e",
   "metadata": {},
   "source": [
    " ## <span style=\"color:#004f9f\"> 1. 자료 구조 심화 </span>"
   ]
  },
  {
   "cell_type": "markdown",
   "id": "42a01ee0",
   "metadata": {},
   "source": [
    "- 다음의 (과일이름, 과일개수) 튜플로 구성된 리스트를 활용하여 다음의 문항을 해결하세요"
   ]
  },
  {
   "cell_type": "code",
   "execution_count": 1,
   "id": "b59d8ac6",
   "metadata": {},
   "outputs": [],
   "source": [
    "import numpy as np\n",
    "\n",
    "fruit = [('apple', np.random.randint(1,11)), \n",
    "         ('banana', np.random.randint(1,11)),\n",
    "         ('cherry', np.random.randint(1,11)),\n",
    "         ('grape', np.random.randint(1,11)),\n",
    "         ('orange', np.random.randint(1,11)),\n",
    "         ('strawberry', np.random.randint(1,11)),\n",
    "         ('melon', np.random.randint(1,11))]"
   ]
  },
  {
   "cell_type": "markdown",
   "id": "2144ac11",
   "metadata": {},
   "source": [
    "**문항1]** fruit 리스트의 홀수번째 인덱스의 튜플만을 담은 fruit02 리스트를 만들고 출력하세요."
   ]
  },
  {
   "cell_type": "code",
   "execution_count": 4,
   "id": "e3006218",
   "metadata": {
    "scrolled": true
   },
   "outputs": [
    {
     "data": {
      "text/plain": [
       "[('banana', 9), ('grape', 9), ('strawberry', 9)]"
      ]
     },
     "execution_count": 4,
     "metadata": {},
     "output_type": "execute_result"
    }
   ],
   "source": [
    "fruit02=[]\n",
    "for i in range(7):\n",
    "    if (i%2)!=0:\n",
    "        fruit02.append(fruit[i])\n",
    "fruit02"
   ]
  },
  {
   "cell_type": "code",
   "execution_count": 183,
   "id": "e6318610",
   "metadata": {},
   "outputs": [
    {
     "data": {
      "text/plain": [
       "[('banana', 1), ('grape', 8), ('strawberry', 2)]"
      ]
     },
     "execution_count": 183,
     "metadata": {},
     "output_type": "execute_result"
    }
   ],
   "source": [
    "#다른 풀이 \n",
    "fruit02 = [fruit[i] for i in range(7) if (i%2)!=0]\n",
    "fruit02"
   ]
  },
  {
   "cell_type": "markdown",
   "id": "4d94204e",
   "metadata": {},
   "source": [
    "**문항2]** sum()함수를 사용하지 않고  fruit 리스트의 과일 개수의 합을 구하세요."
   ]
  },
  {
   "cell_type": "code",
   "execution_count": 184,
   "id": "f3f1c5be",
   "metadata": {
    "scrolled": true
   },
   "outputs": [
    {
     "name": "stdout",
     "output_type": "stream",
     "text": [
      "37\n"
     ]
    }
   ],
   "source": [
    "s=0\n",
    "for i, v in fruit:\n",
    "    s+=v\n",
    "print(s)"
   ]
  },
  {
   "cell_type": "code",
   "execution_count": 5,
   "id": "8b49bfae",
   "metadata": {},
   "outputs": [
    {
     "name": "stdout",
     "output_type": "stream",
     "text": [
      "46\n"
     ]
    }
   ],
   "source": [
    "ss=0\n",
    "for i in range(7):\n",
    "    ss += fruit[i][1]\n",
    "print(ss)"
   ]
  },
  {
   "cell_type": "markdown",
   "id": "a202390b",
   "metadata": {},
   "source": [
    "**문항3]** sort()함수를 사용하지 않고 fruit리스트를 과일명순으로 정렬하여 fruit03리스트를 만드세요."
   ]
  },
  {
   "cell_type": "code",
   "execution_count": 185,
   "id": "b6304a16",
   "metadata": {},
   "outputs": [
    {
     "name": "stdout",
     "output_type": "stream",
     "text": [
      "[('apple', 5), ('banana', 1), ('cherry', 3), ('grape', 8), ('melon', 8), ('orange', 10), ('strawberry', 2)]\n"
     ]
    }
   ],
   "source": [
    "n = len(fruit)\n",
    "for i in range(0, n-1):\n",
    "    least = i\n",
    "    for j in range (i+1, n):\n",
    "        if fruit[least][0][0] > fruit[j][0][0][0]:\n",
    "            least = j\n",
    "    fruit[i], fruit[least] = fruit[least], fruit[i]\n",
    "fruit03 = fruit\n",
    "print(fruit03)"
   ]
  },
  {
   "cell_type": "markdown",
   "id": "fe03ed3f",
   "metadata": {},
   "source": [
    "- 다음의 alist, blist를 활용하여 다음의 문항을 해결하세요."
   ]
  },
  {
   "cell_type": "markdown",
   "id": "2237fb63",
   "metadata": {},
   "source": [
    "**문항4]** alist의 값을 key로 blist의 값을 value로 하는 dictionary를 생성하여 my_dict에 저장하세요."
   ]
  },
  {
   "cell_type": "code",
   "execution_count": 186,
   "id": "6b0ec2a2",
   "metadata": {},
   "outputs": [
    {
     "data": {
      "text/plain": [
       "{'Korean': '100', 'English': '90', 'Math': '80'}"
      ]
     },
     "execution_count": 186,
     "metadata": {},
     "output_type": "execute_result"
    }
   ],
   "source": [
    "alist = ['Korean', 'English', 'Math']\n",
    "blist = ['100', '90', '80']\n",
    "\n",
    "my_dict={}\n",
    "for i, v in zip(alist, blist):\n",
    "    my_dict.update({i:v})\n",
    "my_dict"
   ]
  },
  {
   "cell_type": "code",
   "execution_count": 6,
   "id": "823687b1",
   "metadata": {},
   "outputs": [
    {
     "data": {
      "text/plain": [
       "{'Korean': '100', 'English': '90', 'Math': '80'}"
      ]
     },
     "execution_count": 6,
     "metadata": {},
     "output_type": "execute_result"
    }
   ],
   "source": [
    "alist = ['Korean', 'English', 'Math']\n",
    "blist = ['100', '90', '80']\n",
    "\n",
    "d = {}\n",
    "\n",
    "for i, v in zip(alist,blist):\n",
    "    d[i] = v\n",
    "d"
   ]
  },
  {
   "cell_type": "markdown",
   "id": "49877851",
   "metadata": {},
   "source": [
    " ## <span style=\"color:#004f9f\"> 2. 무작위로 4자리 숫자 생성하기 </span>"
   ]
  },
  {
   "cell_type": "markdown",
   "id": "a8affe3b",
   "metadata": {},
   "source": [
    "- 무작위의 4자리 숫자를 생성하는 프로그램\n",
    "- 단, 각 자리의 숫자가 모두 다르도록 생성\n",
    "- 예: 1234(O), 1222(X)\n",
    "- *[hint]* np.random.randint(시작위치, 끝위치)를 사용하면 해당 범위의 무작위값 생성(단, 끝위치는 포함하지 않음)"
   ]
  },
  {
   "cell_type": "code",
   "execution_count": 187,
   "id": "4b87d76f",
   "metadata": {
    "scrolled": true
   },
   "outputs": [
    {
     "name": "stdout",
     "output_type": "stream",
     "text": [
      "[4, 1, 9, 2]\n"
     ]
    }
   ],
   "source": [
    "import numpy as np\n",
    "\n",
    "while True:\n",
    "    n = np.random.randint(1000, 10000)\n",
    "    a = []\n",
    "    while(n!=0):\n",
    "        a.append(n%10)\n",
    "        n = n//10\n",
    "    a.reverse()\n",
    "    \n",
    "    if (a[0]!=a[1]) and (a[0]!=a[2]) and (a[0]!=a[3]) and (a[1]!=a[2]) and (a[1]!=a[3]) and (a[2]!=a[3]):\n",
    "        break\n",
    "\n",
    "print(a)"
   ]
  },
  {
   "cell_type": "code",
   "execution_count": null,
   "id": "f9c456c2",
   "metadata": {},
   "outputs": [],
   "source": [
    "#다른 풀이 \n",
    "\n",
    "import numpy as np\n",
    "\n",
    "x = []\n",
    "i = 0\n",
    "while i<4:\n",
    "    number = np.random.randint(0, 10)\n",
    "    if number not in x:\n",
    "        x.append(number)\n",
    "        i += 1\n",
    "        \n",
    "print(x)"
   ]
  },
  {
   "cell_type": "markdown",
   "id": "9e49a2cc",
   "metadata": {},
   "source": [
    " ## <span style=\"color:#004f9f\"> 3. 숫자맞추기 야구게임 </span>"
   ]
  },
  {
   "cell_type": "markdown",
   "id": "89289522",
   "metadata": {},
   "source": [
    "- 프로그램이 시작되면 컴퓨터는 무작위로 모든 자리수의 숫자가 다른 4자리 숫자를 생성(2번 과제 활용)\n",
    "- 사용자는 4자리 숫자를 입력 : 4자리 숫자가 아닌 경우 다시 입력받음\n",
    "- 숫자가 전부 틀리면 '아웃'\n",
    "- 위치와 숫자가 모두 맞으면 S\n",
    "- 숫자는 맞지만 위치가 틀리면 B\n",
    "- 예시) 정답이 1234\n",
    "    - 사용자가 7892 입력 -> 1B\n",
    "    - 사용자가 1582 입력 -> 1S1B"
   ]
  },
  {
   "cell_type": "code",
   "execution_count": 199,
   "id": "083072df",
   "metadata": {},
   "outputs": [
    {
     "name": "stdout",
     "output_type": "stream",
     "text": [
      "4자리 숫자를 입력하세요 : 5678\n",
      "0 S 2 B\n",
      "정답:  [1, 7, 6, 4]\n"
     ]
    }
   ],
   "source": [
    "#숫자 생성\n",
    "\n",
    "import numpy as np\n",
    "x = []\n",
    "i = 0\n",
    "while i<4:\n",
    "    number = np.random.randint(0, 10)\n",
    "    if number not in x:\n",
    "        x.append(number)\n",
    "        i += 1\n",
    "\n",
    "\n",
    "#숫자 받기 \n",
    "\n",
    "answer=0\n",
    "while True:\n",
    "    answer = int(input('4자리 숫자를 입력하세요 : '))\n",
    "\n",
    "    if answer<1000:\n",
    "        print(\"잘못입력하셨습니다. 다시 입력해주세요.\")\n",
    "        continue\n",
    "\n",
    "    break\n",
    "\n",
    "b = []\n",
    "while(answer!=0):\n",
    "    b.append(answer%10)\n",
    "    answer = answer//10\n",
    "b.reverse()\n",
    "\n",
    "\n",
    "#숫자 야구 계산 \n",
    "s_count = 0\n",
    "b_count = 0\n",
    "\n",
    "for j in range(4):\n",
    "    if b[j] in x:\n",
    "        if x[j]==b[j]:\n",
    "            s_count+=1\n",
    "        else:\n",
    "            b_count+=1    \n",
    "\n",
    "\n",
    "if s_count==4:\n",
    "    print(\"S\")\n",
    "elif (s_count==0) and (b_count==0):\n",
    "    print(\"아웃\")\n",
    "else:\n",
    "    print(s_count,\"S\",b_count,\"B\")\n",
    "\n",
    "print(\"정답: \", x)"
   ]
  },
  {
   "cell_type": "code",
   "execution_count": null,
   "id": "5b9dfac5",
   "metadata": {},
   "outputs": [],
   "source": []
  }
 ],
 "metadata": {
  "kernelspec": {
   "display_name": "Python 3 (ipykernel)",
   "language": "python",
   "name": "python3"
  },
  "language_info": {
   "codemirror_mode": {
    "name": "ipython",
    "version": 3
   },
   "file_extension": ".py",
   "mimetype": "text/x-python",
   "name": "python",
   "nbconvert_exporter": "python",
   "pygments_lexer": "ipython3",
   "version": "3.9.7"
  }
 },
 "nbformat": 4,
 "nbformat_minor": 5
}
